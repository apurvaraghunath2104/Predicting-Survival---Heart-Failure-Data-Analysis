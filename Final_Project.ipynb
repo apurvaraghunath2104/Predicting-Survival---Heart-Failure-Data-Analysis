{
 "cells": [
  {
   "cell_type": "markdown",
   "metadata": {},
   "source": [
    "# Final Project - Predicting survival of people with Heart Failure "
   ]
  },
  {
   "cell_type": "markdown",
   "metadata": {},
   "source": [
    "## Libraries"
   ]
  },
  {
   "cell_type": "code",
   "execution_count": 1,
   "metadata": {},
   "outputs": [],
   "source": [
    "import pandas as pd\n",
    "import numpy as np\n",
    "from sklearn.model_selection import train_test_split\n",
    "from sklearn.preprocessing import StandardScaler\n",
    "from sklearn import linear_model\n",
    "import matplotlib.pyplot as plt\n",
    "import seaborn as sns\n",
    "from sklearn import metrics\n",
    "\n",
    "from sklearn.tree import DecisionTreeClassifier\n",
    "from sklearn.neighbors import KNeighborsClassifier \n",
    "from sklearn.naive_bayes import GaussianNB\n",
    "from sklearn.svm import SVC\n",
    "\n",
    "from scipy.cluster.hierarchy import linkage, fcluster\n",
    "from sklearn.cluster import KMeans, DBSCAN"
   ]
  },
  {
   "cell_type": "markdown",
   "metadata": {},
   "source": [
    "## Data Import\n"
   ]
  },
  {
   "cell_type": "code",
   "execution_count": 2,
   "metadata": {
    "scrolled": true
   },
   "outputs": [
    {
     "data": {
      "text/html": [
       "<div>\n",
       "<style scoped>\n",
       "    .dataframe tbody tr th:only-of-type {\n",
       "        vertical-align: middle;\n",
       "    }\n",
       "\n",
       "    .dataframe tbody tr th {\n",
       "        vertical-align: top;\n",
       "    }\n",
       "\n",
       "    .dataframe thead th {\n",
       "        text-align: right;\n",
       "    }\n",
       "</style>\n",
       "<table border=\"1\" class=\"dataframe\">\n",
       "  <thead>\n",
       "    <tr style=\"text-align: right;\">\n",
       "      <th></th>\n",
       "      <th>age</th>\n",
       "      <th>anaemia</th>\n",
       "      <th>creatinine_phosphokinase</th>\n",
       "      <th>diabetes</th>\n",
       "      <th>ejection_fraction</th>\n",
       "      <th>high_blood_pressure</th>\n",
       "      <th>platelets</th>\n",
       "      <th>serum_creatinine</th>\n",
       "      <th>serum_sodium</th>\n",
       "      <th>sex</th>\n",
       "      <th>smoking</th>\n",
       "      <th>time</th>\n",
       "      <th>DEATH_EVENT</th>\n",
       "    </tr>\n",
       "  </thead>\n",
       "  <tbody>\n",
       "    <tr>\n",
       "      <th>0</th>\n",
       "      <td>75.0</td>\n",
       "      <td>0</td>\n",
       "      <td>582</td>\n",
       "      <td>0</td>\n",
       "      <td>20</td>\n",
       "      <td>1</td>\n",
       "      <td>265000.00</td>\n",
       "      <td>1.9</td>\n",
       "      <td>130</td>\n",
       "      <td>1</td>\n",
       "      <td>0</td>\n",
       "      <td>4</td>\n",
       "      <td>1</td>\n",
       "    </tr>\n",
       "    <tr>\n",
       "      <th>1</th>\n",
       "      <td>55.0</td>\n",
       "      <td>0</td>\n",
       "      <td>7861</td>\n",
       "      <td>0</td>\n",
       "      <td>38</td>\n",
       "      <td>0</td>\n",
       "      <td>263358.03</td>\n",
       "      <td>1.1</td>\n",
       "      <td>136</td>\n",
       "      <td>1</td>\n",
       "      <td>0</td>\n",
       "      <td>6</td>\n",
       "      <td>1</td>\n",
       "    </tr>\n",
       "    <tr>\n",
       "      <th>2</th>\n",
       "      <td>65.0</td>\n",
       "      <td>0</td>\n",
       "      <td>146</td>\n",
       "      <td>0</td>\n",
       "      <td>20</td>\n",
       "      <td>0</td>\n",
       "      <td>162000.00</td>\n",
       "      <td>1.3</td>\n",
       "      <td>129</td>\n",
       "      <td>1</td>\n",
       "      <td>1</td>\n",
       "      <td>7</td>\n",
       "      <td>1</td>\n",
       "    </tr>\n",
       "    <tr>\n",
       "      <th>3</th>\n",
       "      <td>50.0</td>\n",
       "      <td>1</td>\n",
       "      <td>111</td>\n",
       "      <td>0</td>\n",
       "      <td>20</td>\n",
       "      <td>0</td>\n",
       "      <td>210000.00</td>\n",
       "      <td>1.9</td>\n",
       "      <td>137</td>\n",
       "      <td>1</td>\n",
       "      <td>0</td>\n",
       "      <td>7</td>\n",
       "      <td>1</td>\n",
       "    </tr>\n",
       "    <tr>\n",
       "      <th>4</th>\n",
       "      <td>65.0</td>\n",
       "      <td>1</td>\n",
       "      <td>160</td>\n",
       "      <td>1</td>\n",
       "      <td>20</td>\n",
       "      <td>0</td>\n",
       "      <td>327000.00</td>\n",
       "      <td>2.7</td>\n",
       "      <td>116</td>\n",
       "      <td>0</td>\n",
       "      <td>0</td>\n",
       "      <td>8</td>\n",
       "      <td>1</td>\n",
       "    </tr>\n",
       "  </tbody>\n",
       "</table>\n",
       "</div>"
      ],
      "text/plain": [
       "    age  anaemia  creatinine_phosphokinase  diabetes  ejection_fraction  \\\n",
       "0  75.0        0                       582         0                 20   \n",
       "1  55.0        0                      7861         0                 38   \n",
       "2  65.0        0                       146         0                 20   \n",
       "3  50.0        1                       111         0                 20   \n",
       "4  65.0        1                       160         1                 20   \n",
       "\n",
       "   high_blood_pressure  platelets  serum_creatinine  serum_sodium  sex  \\\n",
       "0                    1  265000.00               1.9           130    1   \n",
       "1                    0  263358.03               1.1           136    1   \n",
       "2                    0  162000.00               1.3           129    1   \n",
       "3                    0  210000.00               1.9           137    1   \n",
       "4                    0  327000.00               2.7           116    0   \n",
       "\n",
       "   smoking  time  DEATH_EVENT  \n",
       "0        0     4            1  \n",
       "1        0     6            1  \n",
       "2        1     7            1  \n",
       "3        0     7            1  \n",
       "4        0     8            1  "
      ]
     },
     "execution_count": 2,
     "metadata": {},
     "output_type": "execute_result"
    }
   ],
   "source": [
    "data = pd.read_csv('heart_failure_clinical_records_dataset.csv')\n",
    "data.head()"
   ]
  },
  {
   "cell_type": "code",
   "execution_count": 3,
   "metadata": {},
   "outputs": [
    {
     "name": "stdout",
     "output_type": "stream",
     "text": [
      "<class 'pandas.core.frame.DataFrame'>\n",
      "RangeIndex: 299 entries, 0 to 298\n",
      "Data columns (total 13 columns):\n",
      " #   Column                    Non-Null Count  Dtype  \n",
      "---  ------                    --------------  -----  \n",
      " 0   age                       299 non-null    float64\n",
      " 1   anaemia                   299 non-null    int64  \n",
      " 2   creatinine_phosphokinase  299 non-null    int64  \n",
      " 3   diabetes                  299 non-null    int64  \n",
      " 4   ejection_fraction         299 non-null    int64  \n",
      " 5   high_blood_pressure       299 non-null    int64  \n",
      " 6   platelets                 299 non-null    float64\n",
      " 7   serum_creatinine          299 non-null    float64\n",
      " 8   serum_sodium              299 non-null    int64  \n",
      " 9   sex                       299 non-null    int64  \n",
      " 10  smoking                   299 non-null    int64  \n",
      " 11  time                      299 non-null    int64  \n",
      " 12  DEATH_EVENT               299 non-null    int64  \n",
      "dtypes: float64(3), int64(10)\n",
      "memory usage: 30.5 KB\n"
     ]
    }
   ],
   "source": [
    "data.info()"
   ]
  },
  {
   "cell_type": "markdown",
   "metadata": {},
   "source": [
    "Number of variables: 13\n",
    "\n",
    "Types of variables: int64, float64\n",
    "\n",
    "Redundant Variables: None"
   ]
  },
  {
   "cell_type": "code",
   "execution_count": 4,
   "metadata": {},
   "outputs": [
    {
     "data": {
      "text/html": [
       "<div>\n",
       "<style scoped>\n",
       "    .dataframe tbody tr th:only-of-type {\n",
       "        vertical-align: middle;\n",
       "    }\n",
       "\n",
       "    .dataframe tbody tr th {\n",
       "        vertical-align: top;\n",
       "    }\n",
       "\n",
       "    .dataframe thead th {\n",
       "        text-align: right;\n",
       "    }\n",
       "</style>\n",
       "<table border=\"1\" class=\"dataframe\">\n",
       "  <thead>\n",
       "    <tr style=\"text-align: right;\">\n",
       "      <th></th>\n",
       "      <th>age</th>\n",
       "      <th>anaemia</th>\n",
       "      <th>creatinine_phosphokinase</th>\n",
       "      <th>diabetes</th>\n",
       "      <th>ejection_fraction</th>\n",
       "      <th>high_blood_pressure</th>\n",
       "      <th>platelets</th>\n",
       "      <th>serum_creatinine</th>\n",
       "      <th>serum_sodium</th>\n",
       "      <th>sex</th>\n",
       "      <th>smoking</th>\n",
       "      <th>time</th>\n",
       "      <th>DEATH_EVENT</th>\n",
       "    </tr>\n",
       "  </thead>\n",
       "  <tbody>\n",
       "    <tr>\n",
       "      <th>0</th>\n",
       "      <td>75.0</td>\n",
       "      <td>0</td>\n",
       "      <td>582</td>\n",
       "      <td>0</td>\n",
       "      <td>20</td>\n",
       "      <td>1</td>\n",
       "      <td>265000.00</td>\n",
       "      <td>1.9</td>\n",
       "      <td>130</td>\n",
       "      <td>1</td>\n",
       "      <td>0</td>\n",
       "      <td>4</td>\n",
       "      <td>1</td>\n",
       "    </tr>\n",
       "    <tr>\n",
       "      <th>1</th>\n",
       "      <td>55.0</td>\n",
       "      <td>0</td>\n",
       "      <td>7861</td>\n",
       "      <td>0</td>\n",
       "      <td>38</td>\n",
       "      <td>0</td>\n",
       "      <td>263358.03</td>\n",
       "      <td>1.1</td>\n",
       "      <td>136</td>\n",
       "      <td>1</td>\n",
       "      <td>0</td>\n",
       "      <td>6</td>\n",
       "      <td>1</td>\n",
       "    </tr>\n",
       "    <tr>\n",
       "      <th>2</th>\n",
       "      <td>65.0</td>\n",
       "      <td>0</td>\n",
       "      <td>146</td>\n",
       "      <td>0</td>\n",
       "      <td>20</td>\n",
       "      <td>0</td>\n",
       "      <td>162000.00</td>\n",
       "      <td>1.3</td>\n",
       "      <td>129</td>\n",
       "      <td>1</td>\n",
       "      <td>1</td>\n",
       "      <td>7</td>\n",
       "      <td>1</td>\n",
       "    </tr>\n",
       "    <tr>\n",
       "      <th>3</th>\n",
       "      <td>50.0</td>\n",
       "      <td>1</td>\n",
       "      <td>111</td>\n",
       "      <td>0</td>\n",
       "      <td>20</td>\n",
       "      <td>0</td>\n",
       "      <td>210000.00</td>\n",
       "      <td>1.9</td>\n",
       "      <td>137</td>\n",
       "      <td>1</td>\n",
       "      <td>0</td>\n",
       "      <td>7</td>\n",
       "      <td>1</td>\n",
       "    </tr>\n",
       "    <tr>\n",
       "      <th>4</th>\n",
       "      <td>65.0</td>\n",
       "      <td>1</td>\n",
       "      <td>160</td>\n",
       "      <td>1</td>\n",
       "      <td>20</td>\n",
       "      <td>0</td>\n",
       "      <td>327000.00</td>\n",
       "      <td>2.7</td>\n",
       "      <td>116</td>\n",
       "      <td>0</td>\n",
       "      <td>0</td>\n",
       "      <td>8</td>\n",
       "      <td>1</td>\n",
       "    </tr>\n",
       "    <tr>\n",
       "      <th>...</th>\n",
       "      <td>...</td>\n",
       "      <td>...</td>\n",
       "      <td>...</td>\n",
       "      <td>...</td>\n",
       "      <td>...</td>\n",
       "      <td>...</td>\n",
       "      <td>...</td>\n",
       "      <td>...</td>\n",
       "      <td>...</td>\n",
       "      <td>...</td>\n",
       "      <td>...</td>\n",
       "      <td>...</td>\n",
       "      <td>...</td>\n",
       "    </tr>\n",
       "    <tr>\n",
       "      <th>294</th>\n",
       "      <td>62.0</td>\n",
       "      <td>0</td>\n",
       "      <td>61</td>\n",
       "      <td>1</td>\n",
       "      <td>38</td>\n",
       "      <td>1</td>\n",
       "      <td>155000.00</td>\n",
       "      <td>1.1</td>\n",
       "      <td>143</td>\n",
       "      <td>1</td>\n",
       "      <td>1</td>\n",
       "      <td>270</td>\n",
       "      <td>0</td>\n",
       "    </tr>\n",
       "    <tr>\n",
       "      <th>295</th>\n",
       "      <td>55.0</td>\n",
       "      <td>0</td>\n",
       "      <td>1820</td>\n",
       "      <td>0</td>\n",
       "      <td>38</td>\n",
       "      <td>0</td>\n",
       "      <td>270000.00</td>\n",
       "      <td>1.2</td>\n",
       "      <td>139</td>\n",
       "      <td>0</td>\n",
       "      <td>0</td>\n",
       "      <td>271</td>\n",
       "      <td>0</td>\n",
       "    </tr>\n",
       "    <tr>\n",
       "      <th>296</th>\n",
       "      <td>45.0</td>\n",
       "      <td>0</td>\n",
       "      <td>2060</td>\n",
       "      <td>1</td>\n",
       "      <td>60</td>\n",
       "      <td>0</td>\n",
       "      <td>742000.00</td>\n",
       "      <td>0.8</td>\n",
       "      <td>138</td>\n",
       "      <td>0</td>\n",
       "      <td>0</td>\n",
       "      <td>278</td>\n",
       "      <td>0</td>\n",
       "    </tr>\n",
       "    <tr>\n",
       "      <th>297</th>\n",
       "      <td>45.0</td>\n",
       "      <td>0</td>\n",
       "      <td>2413</td>\n",
       "      <td>0</td>\n",
       "      <td>38</td>\n",
       "      <td>0</td>\n",
       "      <td>140000.00</td>\n",
       "      <td>1.4</td>\n",
       "      <td>140</td>\n",
       "      <td>1</td>\n",
       "      <td>1</td>\n",
       "      <td>280</td>\n",
       "      <td>0</td>\n",
       "    </tr>\n",
       "    <tr>\n",
       "      <th>298</th>\n",
       "      <td>50.0</td>\n",
       "      <td>0</td>\n",
       "      <td>196</td>\n",
       "      <td>0</td>\n",
       "      <td>45</td>\n",
       "      <td>0</td>\n",
       "      <td>395000.00</td>\n",
       "      <td>1.6</td>\n",
       "      <td>136</td>\n",
       "      <td>1</td>\n",
       "      <td>1</td>\n",
       "      <td>285</td>\n",
       "      <td>0</td>\n",
       "    </tr>\n",
       "  </tbody>\n",
       "</table>\n",
       "<p>299 rows × 13 columns</p>\n",
       "</div>"
      ],
      "text/plain": [
       "      age  anaemia  creatinine_phosphokinase  diabetes  ejection_fraction  \\\n",
       "0    75.0        0                       582         0                 20   \n",
       "1    55.0        0                      7861         0                 38   \n",
       "2    65.0        0                       146         0                 20   \n",
       "3    50.0        1                       111         0                 20   \n",
       "4    65.0        1                       160         1                 20   \n",
       "..    ...      ...                       ...       ...                ...   \n",
       "294  62.0        0                        61         1                 38   \n",
       "295  55.0        0                      1820         0                 38   \n",
       "296  45.0        0                      2060         1                 60   \n",
       "297  45.0        0                      2413         0                 38   \n",
       "298  50.0        0                       196         0                 45   \n",
       "\n",
       "     high_blood_pressure  platelets  serum_creatinine  serum_sodium  sex  \\\n",
       "0                      1  265000.00               1.9           130    1   \n",
       "1                      0  263358.03               1.1           136    1   \n",
       "2                      0  162000.00               1.3           129    1   \n",
       "3                      0  210000.00               1.9           137    1   \n",
       "4                      0  327000.00               2.7           116    0   \n",
       "..                   ...        ...               ...           ...  ...   \n",
       "294                    1  155000.00               1.1           143    1   \n",
       "295                    0  270000.00               1.2           139    0   \n",
       "296                    0  742000.00               0.8           138    0   \n",
       "297                    0  140000.00               1.4           140    1   \n",
       "298                    0  395000.00               1.6           136    1   \n",
       "\n",
       "     smoking  time  DEATH_EVENT  \n",
       "0          0     4            1  \n",
       "1          0     6            1  \n",
       "2          1     7            1  \n",
       "3          0     7            1  \n",
       "4          0     8            1  \n",
       "..       ...   ...          ...  \n",
       "294        1   270            0  \n",
       "295        0   271            0  \n",
       "296        0   278            0  \n",
       "297        1   280            0  \n",
       "298        1   285            0  \n",
       "\n",
       "[299 rows x 13 columns]"
      ]
     },
     "execution_count": 4,
     "metadata": {},
     "output_type": "execute_result"
    }
   ],
   "source": [
    "data.dropna(0)"
   ]
  },
  {
   "cell_type": "code",
   "execution_count": 5,
   "metadata": {},
   "outputs": [
    {
     "data": {
      "text/plain": [
       "(299, 13)"
      ]
     },
     "execution_count": 5,
     "metadata": {},
     "output_type": "execute_result"
    }
   ],
   "source": [
    "data.shape"
   ]
  },
  {
   "cell_type": "markdown",
   "metadata": {},
   "source": [
    "***There are no missing data, noise, outliers***\n"
   ]
  },
  {
   "cell_type": "code",
   "execution_count": 6,
   "metadata": {},
   "outputs": [
    {
     "data": {
      "text/html": [
       "<div>\n",
       "<style scoped>\n",
       "    .dataframe tbody tr th:only-of-type {\n",
       "        vertical-align: middle;\n",
       "    }\n",
       "\n",
       "    .dataframe tbody tr th {\n",
       "        vertical-align: top;\n",
       "    }\n",
       "\n",
       "    .dataframe thead th {\n",
       "        text-align: right;\n",
       "    }\n",
       "</style>\n",
       "<table border=\"1\" class=\"dataframe\">\n",
       "  <thead>\n",
       "    <tr style=\"text-align: right;\">\n",
       "      <th></th>\n",
       "      <th>count</th>\n",
       "      <th>mean</th>\n",
       "      <th>std</th>\n",
       "      <th>min</th>\n",
       "      <th>25%</th>\n",
       "      <th>50%</th>\n",
       "      <th>75%</th>\n",
       "      <th>max</th>\n",
       "    </tr>\n",
       "  </thead>\n",
       "  <tbody>\n",
       "    <tr>\n",
       "      <th>age</th>\n",
       "      <td>299.0</td>\n",
       "      <td>60.83</td>\n",
       "      <td>11.89</td>\n",
       "      <td>40.0</td>\n",
       "      <td>51.0</td>\n",
       "      <td>60.0</td>\n",
       "      <td>70.0</td>\n",
       "      <td>95.0</td>\n",
       "    </tr>\n",
       "    <tr>\n",
       "      <th>anaemia</th>\n",
       "      <td>299.0</td>\n",
       "      <td>0.43</td>\n",
       "      <td>0.50</td>\n",
       "      <td>0.0</td>\n",
       "      <td>0.0</td>\n",
       "      <td>0.0</td>\n",
       "      <td>1.0</td>\n",
       "      <td>1.0</td>\n",
       "    </tr>\n",
       "    <tr>\n",
       "      <th>creatinine_phosphokinase</th>\n",
       "      <td>299.0</td>\n",
       "      <td>581.84</td>\n",
       "      <td>970.29</td>\n",
       "      <td>23.0</td>\n",
       "      <td>116.5</td>\n",
       "      <td>250.0</td>\n",
       "      <td>582.0</td>\n",
       "      <td>7861.0</td>\n",
       "    </tr>\n",
       "    <tr>\n",
       "      <th>diabetes</th>\n",
       "      <td>299.0</td>\n",
       "      <td>0.42</td>\n",
       "      <td>0.49</td>\n",
       "      <td>0.0</td>\n",
       "      <td>0.0</td>\n",
       "      <td>0.0</td>\n",
       "      <td>1.0</td>\n",
       "      <td>1.0</td>\n",
       "    </tr>\n",
       "    <tr>\n",
       "      <th>ejection_fraction</th>\n",
       "      <td>299.0</td>\n",
       "      <td>38.08</td>\n",
       "      <td>11.83</td>\n",
       "      <td>14.0</td>\n",
       "      <td>30.0</td>\n",
       "      <td>38.0</td>\n",
       "      <td>45.0</td>\n",
       "      <td>80.0</td>\n",
       "    </tr>\n",
       "    <tr>\n",
       "      <th>high_blood_pressure</th>\n",
       "      <td>299.0</td>\n",
       "      <td>0.35</td>\n",
       "      <td>0.48</td>\n",
       "      <td>0.0</td>\n",
       "      <td>0.0</td>\n",
       "      <td>0.0</td>\n",
       "      <td>1.0</td>\n",
       "      <td>1.0</td>\n",
       "    </tr>\n",
       "    <tr>\n",
       "      <th>platelets</th>\n",
       "      <td>299.0</td>\n",
       "      <td>263358.03</td>\n",
       "      <td>97804.24</td>\n",
       "      <td>25100.0</td>\n",
       "      <td>212500.0</td>\n",
       "      <td>262000.0</td>\n",
       "      <td>303500.0</td>\n",
       "      <td>850000.0</td>\n",
       "    </tr>\n",
       "    <tr>\n",
       "      <th>serum_creatinine</th>\n",
       "      <td>299.0</td>\n",
       "      <td>1.39</td>\n",
       "      <td>1.03</td>\n",
       "      <td>0.5</td>\n",
       "      <td>0.9</td>\n",
       "      <td>1.1</td>\n",
       "      <td>1.4</td>\n",
       "      <td>9.4</td>\n",
       "    </tr>\n",
       "    <tr>\n",
       "      <th>serum_sodium</th>\n",
       "      <td>299.0</td>\n",
       "      <td>136.63</td>\n",
       "      <td>4.41</td>\n",
       "      <td>113.0</td>\n",
       "      <td>134.0</td>\n",
       "      <td>137.0</td>\n",
       "      <td>140.0</td>\n",
       "      <td>148.0</td>\n",
       "    </tr>\n",
       "    <tr>\n",
       "      <th>sex</th>\n",
       "      <td>299.0</td>\n",
       "      <td>0.65</td>\n",
       "      <td>0.48</td>\n",
       "      <td>0.0</td>\n",
       "      <td>0.0</td>\n",
       "      <td>1.0</td>\n",
       "      <td>1.0</td>\n",
       "      <td>1.0</td>\n",
       "    </tr>\n",
       "    <tr>\n",
       "      <th>smoking</th>\n",
       "      <td>299.0</td>\n",
       "      <td>0.32</td>\n",
       "      <td>0.47</td>\n",
       "      <td>0.0</td>\n",
       "      <td>0.0</td>\n",
       "      <td>0.0</td>\n",
       "      <td>1.0</td>\n",
       "      <td>1.0</td>\n",
       "    </tr>\n",
       "    <tr>\n",
       "      <th>time</th>\n",
       "      <td>299.0</td>\n",
       "      <td>130.26</td>\n",
       "      <td>77.61</td>\n",
       "      <td>4.0</td>\n",
       "      <td>73.0</td>\n",
       "      <td>115.0</td>\n",
       "      <td>203.0</td>\n",
       "      <td>285.0</td>\n",
       "    </tr>\n",
       "    <tr>\n",
       "      <th>DEATH_EVENT</th>\n",
       "      <td>299.0</td>\n",
       "      <td>0.32</td>\n",
       "      <td>0.47</td>\n",
       "      <td>0.0</td>\n",
       "      <td>0.0</td>\n",
       "      <td>0.0</td>\n",
       "      <td>1.0</td>\n",
       "      <td>1.0</td>\n",
       "    </tr>\n",
       "  </tbody>\n",
       "</table>\n",
       "</div>"
      ],
      "text/plain": [
       "                          count       mean       std      min       25%  \\\n",
       "age                       299.0      60.83     11.89     40.0      51.0   \n",
       "anaemia                   299.0       0.43      0.50      0.0       0.0   \n",
       "creatinine_phosphokinase  299.0     581.84    970.29     23.0     116.5   \n",
       "diabetes                  299.0       0.42      0.49      0.0       0.0   \n",
       "ejection_fraction         299.0      38.08     11.83     14.0      30.0   \n",
       "high_blood_pressure       299.0       0.35      0.48      0.0       0.0   \n",
       "platelets                 299.0  263358.03  97804.24  25100.0  212500.0   \n",
       "serum_creatinine          299.0       1.39      1.03      0.5       0.9   \n",
       "serum_sodium              299.0     136.63      4.41    113.0     134.0   \n",
       "sex                       299.0       0.65      0.48      0.0       0.0   \n",
       "smoking                   299.0       0.32      0.47      0.0       0.0   \n",
       "time                      299.0     130.26     77.61      4.0      73.0   \n",
       "DEATH_EVENT               299.0       0.32      0.47      0.0       0.0   \n",
       "\n",
       "                               50%       75%       max  \n",
       "age                           60.0      70.0      95.0  \n",
       "anaemia                        0.0       1.0       1.0  \n",
       "creatinine_phosphokinase     250.0     582.0    7861.0  \n",
       "diabetes                       0.0       1.0       1.0  \n",
       "ejection_fraction             38.0      45.0      80.0  \n",
       "high_blood_pressure            0.0       1.0       1.0  \n",
       "platelets                 262000.0  303500.0  850000.0  \n",
       "serum_creatinine               1.1       1.4       9.4  \n",
       "serum_sodium                 137.0     140.0     148.0  \n",
       "sex                            1.0       1.0       1.0  \n",
       "smoking                        0.0       1.0       1.0  \n",
       "time                         115.0     203.0     285.0  \n",
       "DEATH_EVENT                    0.0       1.0       1.0  "
      ]
     },
     "execution_count": 6,
     "metadata": {},
     "output_type": "execute_result"
    }
   ],
   "source": [
    "# statistic description for heart failure data\n",
    "data.describe().transpose().round(2)"
   ]
  },
  {
   "cell_type": "code",
   "execution_count": 7,
   "metadata": {},
   "outputs": [
    {
     "data": {
      "text/plain": [
       "[Text(0, 0.5, 'deaths'), Text(0.5, 0, 'age'), Text(0.5, 1.0, 'Age vs Death')]"
      ]
     },
     "execution_count": 7,
     "metadata": {},
     "output_type": "execute_result"
    },
    {
     "data": {
      "image/png": "[encoded data removed]",
      "text/plain": [
       "<Figure size 1440x360 with 1 Axes>"
      ]
     },
     "metadata": {
      "needs_background": "light"
     },
     "output_type": "display_data"
    }
   ],
   "source": [
    "ax = sns.distplot(data[data['DEATH_EVENT'] == 1][['age']])\n",
    "ax.figure.set_size_inches(20, 5)\n",
    "ax.set(title = 'Age vs Death', xlabel = 'age', ylabel = 'deaths')"
   ]
  },
  {
   "cell_type": "code",
   "execution_count": 8,
   "metadata": {},
   "outputs": [
    {
     "data": {
      "image/png": "[encoded data removed]",
      "text/plain": [
       "<Figure size 1080x360 with 1 Axes>"
      ]
     },
     "metadata": {
      "needs_background": "light"
     },
     "output_type": "display_data"
    }
   ],
   "source": [
    "fig, axs = plt.subplots(1)\n",
    "fig.set_size_inches(15, 5)\n",
    "axs = sns.distplot(data[data['DEATH_EVENT'] == 1][['creatinine_phosphokinase']])"
   ]
  },
  {
   "cell_type": "code",
   "execution_count": 9,
   "metadata": {},
   "outputs": [
    {
     "data": {
      "text/plain": [
       "[Text(0, 0.5, 'deaths'),\n",
       " Text(0.5, 0, 'Platelets'),\n",
       " Text(0.5, 1.0, 'Platelets vs Death')]"
      ]
     },
     "execution_count": 9,
     "metadata": {},
     "output_type": "execute_result"
    },
    {
     "data": {
      "image/png": "[encoded data removed]",
      "text/plain": [
       "<Figure size 1440x504 with 1 Axes>"
      ]
     },
     "metadata": {
      "needs_background": "light"
     },
     "output_type": "display_data"
    }
   ],
   "source": [
    "ax = sns.distplot(data[data['DEATH_EVENT'] == 1][['platelets']])\n",
    "ax.figure.set_size_inches(20, 7)\n",
    "ax.set(title = 'Platelets vs Death', xlabel = 'Platelets', ylabel = 'deaths')"
   ]
  },
  {
   "cell_type": "code",
   "execution_count": 10,
   "metadata": {},
   "outputs": [
    {
     "data": {
      "text/plain": [
       "[Text(0, 0.5, 'deaths'),\n",
       " Text(0.5, 0, 'Serum Creatinine'),\n",
       " Text(0.5, 1.0, 'Serum Creatinine vs Death')]"
      ]
     },
     "execution_count": 10,
     "metadata": {},
     "output_type": "execute_result"
    },
    {
     "data": {
      "image/png": "[encoded data removed]",
      "text/plain": [
       "<Figure size 1440x360 with 1 Axes>"
      ]
     },
     "metadata": {
      "needs_background": "light"
     },
     "output_type": "display_data"
    }
   ],
   "source": [
    "ax = sns.distplot(data[data['DEATH_EVENT'] == 1][['serum_creatinine']])\n",
    "ax.figure.set_size_inches(20, 5)\n",
    "ax.set(title = 'Serum Creatinine vs Death', xlabel = 'Serum Creatinine', ylabel = 'deaths')"
   ]
  },
  {
   "cell_type": "code",
   "execution_count": 11,
   "metadata": {},
   "outputs": [
    {
     "data": {
      "text/plain": [
       "<matplotlib.axes._subplots.AxesSubplot at 0x7faa66ed0890>"
      ]
     },
     "execution_count": 11,
     "metadata": {},
     "output_type": "execute_result"
    },
    {
     "data": {
      "image/png": "[encoded data removed]",
      "text/plain": [
       "<Figure size 432x288 with 1 Axes>"
      ]
     },
     "metadata": {
      "needs_background": "light"
     },
     "output_type": "display_data"
    }
   ],
   "source": [
    "sns.countplot(x = 'DEATH_EVENT', hue = 'high_blood_pressure', data = data)"
   ]
  },
  {
   "cell_type": "code",
   "execution_count": 12,
   "metadata": {},
   "outputs": [
    {
     "data": {
      "text/plain": [
       "<matplotlib.axes._subplots.AxesSubplot at 0x7faa66e3d450>"
      ]
     },
     "execution_count": 12,
     "metadata": {},
     "output_type": "execute_result"
    },
    {
     "data": {
      "image/png": "[encoded data removed]",
      "text/plain": [
       "<Figure size 432x288 with 1 Axes>"
      ]
     },
     "metadata": {
      "needs_background": "light"
     },
     "output_type": "display_data"
    }
   ],
   "source": [
    "sns.countplot(x = 'DEATH_EVENT', hue = 'diabetes', data = data)"
   ]
  },
  {
   "cell_type": "code",
   "execution_count": 13,
   "metadata": {},
   "outputs": [
    {
     "data": {
      "text/plain": [
       "<matplotlib.axes._subplots.AxesSubplot at 0x7faa66dbd050>"
      ]
     },
     "execution_count": 13,
     "metadata": {},
     "output_type": "execute_result"
    },
    {
     "data": {
      "image/png": "[encoded data removed]",
      "text/plain": [
       "<Figure size 432x288 with 1 Axes>"
      ]
     },
     "metadata": {
      "needs_background": "light"
     },
     "output_type": "display_data"
    }
   ],
   "source": [
    "sns.countplot(x = 'anaemia', hue = 'DEATH_EVENT', data = data)"
   ]
  },
  {
   "cell_type": "code",
   "execution_count": 14,
   "metadata": {},
   "outputs": [
    {
     "data": {
      "text/plain": [
       "<matplotlib.axes._subplots.AxesSubplot at 0x7faa66d25150>"
      ]
     },
     "execution_count": 14,
     "metadata": {},
     "output_type": "execute_result"
    },
    {
     "data": {
      "image/png": "[encoded data removed]",
      "text/plain": [
       "<Figure size 432x288 with 1 Axes>"
      ]
     },
     "metadata": {
      "needs_background": "light"
     },
     "output_type": "display_data"
    }
   ],
   "source": [
    "sns.countplot(x = 'sex', hue = 'DEATH_EVENT', data = data)"
   ]
  },
  {
   "cell_type": "markdown",
   "metadata": {},
   "source": [
    "## Data Preparation"
   ]
  },
  {
   "cell_type": "code",
   "execution_count": 15,
   "metadata": {},
   "outputs": [],
   "source": [
    "X_train, X_val, y_train, y_val = train_test_split(data.iloc[:,:-1], data.iloc[:, [-1]], test_size = 0.25, random_state = 0)\n",
    "# X_train, X_val, y_train, y_val = train_test_split(data.iloc[:,:12], data.iloc[:, 12:], test_size = 0.25, random_state = 0)"
   ]
  },
  {
   "cell_type": "code",
   "execution_count": 16,
   "metadata": {},
   "outputs": [],
   "source": [
    "scaler = StandardScaler()\n",
    "scaler.fit(X_train)\n",
    "x_train_scaled = scaler.transform(X_train)\n",
    "x_val_scaled = scaler.transform(X_val)\n",
    "# x_val = X_val.select_dtypes(include=[np.int64,np.float64])\n",
    "x_train_scaled_df = pd.DataFrame(x_train_scaled,index = X_train.index,columns=X_train.columns)\n",
    "x_val_scaled_df = pd.DataFrame(x_val_scaled,index = X_val.index,columns=X_val.columns)"
   ]
  },
  {
   "cell_type": "markdown",
   "metadata": {},
   "source": [
    "## Classification"
   ]
  },
  {
   "cell_type": "markdown",
   "metadata": {},
   "source": [
    "### 1: Decision Tree\n",
    "#### 1.1: Using all predictor variables"
   ]
  },
  {
   "cell_type": "code",
   "execution_count": 17,
   "metadata": {},
   "outputs": [
    {
     "data": {
      "text/plain": [
       "DecisionTreeClassifier(ccp_alpha=0.0, class_weight=None, criterion='entropy',\n",
       "                       max_depth=None, max_features=None, max_leaf_nodes=None,\n",
       "                       min_impurity_decrease=0.0, min_impurity_split=None,\n",
       "                       min_samples_leaf=1, min_samples_split=2,\n",
       "                       min_weight_fraction_leaf=0.0, presort='deprecated',\n",
       "                       random_state=0, splitter='best')"
      ]
     },
     "execution_count": 17,
     "metadata": {},
     "output_type": "execute_result"
    }
   ],
   "source": [
    "classifier = DecisionTreeClassifier(criterion='entropy', random_state=0)\n",
    "classifier.fit(x_train_scaled, y_train)"
   ]
  },
  {
   "cell_type": "code",
   "execution_count": 18,
   "metadata": {},
   "outputs": [],
   "source": [
    "y_pred = classifier.predict(x_val_scaled)"
   ]
  },
  {
   "cell_type": "code",
   "execution_count": 19,
   "metadata": {},
   "outputs": [
    {
     "data": {
      "image/png": "[encoded data removed]",
      "text/plain": [
       "<Figure size 432x288 with 2 Axes>"
      ]
     },
     "metadata": {
      "needs_background": "light"
     },
     "output_type": "display_data"
    }
   ],
   "source": [
    "conf_matrix = metrics.confusion_matrix(y_val, y_pred)\n",
    "sns.heatmap(conf_matrix, annot = True, fmt = \".3f\", square = True, cmap = plt.cm.Blues)\n",
    "plt.ylabel('Actual')\n",
    "plt.xlabel('Predicted')\n",
    "plt.title('Confusion matrix')\n",
    "plt.tight_layout()"
   ]
  },
  {
   "cell_type": "code",
   "execution_count": 20,
   "metadata": {},
   "outputs": [
    {
     "name": "stdout",
     "output_type": "stream",
     "text": [
      "Accuracy:  0.8133333333333334\n",
      "Error:  0.18666666666666665\n",
      "Precision:  0.7241379310344828\n",
      "Recall:  0.7777777777777778\n",
      "F1 score:  0.75\n"
     ]
    }
   ],
   "source": [
    "accuracy = metrics.accuracy_score(y_val, y_pred)\n",
    "print(\"Accuracy: \", accuracy)\n",
    "error = 1 - accuracy\n",
    "print(\"Error: \", error)\n",
    "precision = metrics.precision_score(y_val, y_pred)\n",
    "print(\"Precision: \", precision)\n",
    "recall = metrics.recall_score(y_val, y_pred)\n",
    "print(\"Recall: \", recall)\n",
    "F1_score = metrics.f1_score(y_val, y_pred)\n",
    "print(\"F1 score: \", F1_score)\n"
   ]
  },
  {
   "cell_type": "markdown",
   "metadata": {},
   "source": [
    "#### 1.2: Using Age and Gender as predictor variables"
   ]
  },
  {
   "cell_type": "code",
   "execution_count": 21,
   "metadata": {},
   "outputs": [],
   "source": [
    "selected_predictor_variables = ['age', \n",
    "                                'sex']"
   ]
  },
  {
   "cell_type": "code",
   "execution_count": 22,
   "metadata": {},
   "outputs": [
    {
     "data": {
      "text/plain": [
       "DecisionTreeClassifier(ccp_alpha=0.0, class_weight=None, criterion='entropy',\n",
       "                       max_depth=None, max_features=None, max_leaf_nodes=None,\n",
       "                       min_impurity_decrease=0.0, min_impurity_split=None,\n",
       "                       min_samples_leaf=1, min_samples_split=2,\n",
       "                       min_weight_fraction_leaf=0.0, presort='deprecated',\n",
       "                       random_state=0, splitter='best')"
      ]
     },
     "execution_count": 22,
     "metadata": {},
     "output_type": "execute_result"
    }
   ],
   "source": [
    "classifier = DecisionTreeClassifier(criterion='entropy', random_state=0)\n",
    "classifier.fit(x_train_scaled_df[selected_predictor_variables], y_train)"
   ]
  },
  {
   "cell_type": "code",
   "execution_count": 23,
   "metadata": {},
   "outputs": [],
   "source": [
    "y_pred = classifier.predict(x_val_scaled_df[selected_predictor_variables])"
   ]
  },
  {
   "cell_type": "code",
   "execution_count": 24,
   "metadata": {},
   "outputs": [
    {
     "data": {
      "image/png": "[encoded data removed]",
      "text/plain": [
       "<Figure size 432x288 with 2 Axes>"
      ]
     },
     "metadata": {
      "needs_background": "light"
     },
     "output_type": "display_data"
    }
   ],
   "source": [
    "conf_matrix = metrics.confusion_matrix(y_val, y_pred)\n",
    "sns.heatmap(conf_matrix, annot = True, fmt = \".3f\", square = True, cmap = plt.cm.Blues)\n",
    "plt.ylabel('Actual')\n",
    "plt.xlabel('Predicted')\n",
    "plt.title('Confusion matrix')\n",
    "plt.tight_layout()"
   ]
  },
  {
   "cell_type": "code",
   "execution_count": 25,
   "metadata": {},
   "outputs": [
    {
     "name": "stdout",
     "output_type": "stream",
     "text": [
      "Accuracy:  0.6533333333333333\n",
      "Error:  0.3466666666666667\n",
      "Precision:  0.5333333333333333\n",
      "Recall:  0.2962962962962963\n",
      "F1 score:  0.38095238095238093\n"
     ]
    }
   ],
   "source": [
    "accuracy = metrics.accuracy_score(y_val, y_pred)\n",
    "print(\"Accuracy: \", accuracy)\n",
    "error = 1 - accuracy\n",
    "print(\"Error: \", error)\n",
    "precision = metrics.precision_score(y_val, y_pred)\n",
    "print(\"Precision: \", precision)\n",
    "recall = metrics.recall_score(y_val, y_pred)\n",
    "print(\"Recall: \", recall)\n",
    "F1_score = metrics.f1_score(y_val, y_pred)\n",
    "print(\"F1 score: \", F1_score)"
   ]
  },
  {
   "cell_type": "markdown",
   "metadata": {},
   "source": [
    "#### 1.3: Using Diabetes, High Blood Pressure and anaemia, platelets, smoking as predictor variables"
   ]
  },
  {
   "cell_type": "code",
   "execution_count": 26,
   "metadata": {},
   "outputs": [],
   "source": [
    "# print(data.head())\n",
    "selected_predictor_variables = ['anaemia', \n",
    "                                'diabetes',\n",
    "                               'platelets', 'high_blood_pressure', 'smoking']"
   ]
  },
  {
   "cell_type": "code",
   "execution_count": 27,
   "metadata": {},
   "outputs": [
    {
     "data": {
      "text/plain": [
       "DecisionTreeClassifier(ccp_alpha=0.0, class_weight=None, criterion='entropy',\n",
       "                       max_depth=None, max_features=None, max_leaf_nodes=None,\n",
       "                       min_impurity_decrease=0.0, min_impurity_split=None,\n",
       "                       min_samples_leaf=1, min_samples_split=2,\n",
       "                       min_weight_fraction_leaf=0.0, presort='deprecated',\n",
       "                       random_state=0, splitter='best')"
      ]
     },
     "execution_count": 27,
     "metadata": {},
     "output_type": "execute_result"
    }
   ],
   "source": [
    "classifier = DecisionTreeClassifier(criterion='entropy', random_state=0)\n",
    "classifier.fit(x_train_scaled_df[selected_predictor_variables], y_train)"
   ]
  },
  {
   "cell_type": "code",
   "execution_count": 28,
   "metadata": {},
   "outputs": [],
   "source": [
    "y_pred = classifier.predict(x_val_scaled_df[selected_predictor_variables])\n"
   ]
  },
  {
   "cell_type": "code",
   "execution_count": 29,
   "metadata": {},
   "outputs": [
    {
     "data": {
      "image/png": "[encoded data removed]",
      "text/plain": [
       "<Figure size 432x288 with 2 Axes>"
      ]
     },
     "metadata": {
      "needs_background": "light"
     },
     "output_type": "display_data"
    }
   ],
   "source": [
    "conf_matrix = metrics.confusion_matrix(y_val, y_pred)\n",
    "sns.heatmap(conf_matrix, annot = True, fmt = \".3f\", square = True, cmap = plt.cm.Blues)\n",
    "plt.ylabel('Actual')\n",
    "plt.xlabel('Predicted')\n",
    "plt.title('Confusion matrix')\n",
    "plt.tight_layout()"
   ]
  },
  {
   "cell_type": "code",
   "execution_count": 30,
   "metadata": {},
   "outputs": [
    {
     "name": "stdout",
     "output_type": "stream",
     "text": [
      "Accuracy:  0.5066666666666667\n",
      "Error:  0.4933333333333333\n",
      "Precision:  0.2916666666666667\n",
      "Recall:  0.25925925925925924\n",
      "F1 score:  0.27450980392156865\n"
     ]
    }
   ],
   "source": [
    "accuracy = metrics.accuracy_score(y_val, y_pred)\n",
    "print(\"Accuracy: \", accuracy)\n",
    "error = 1 - accuracy\n",
    "print(\"Error: \", error)\n",
    "precision = metrics.precision_score(y_val, y_pred)\n",
    "print(\"Precision: \", precision)\n",
    "recall = metrics.recall_score(y_val, y_pred)\n",
    "print(\"Recall: \", recall)\n",
    "F1_score = metrics.f1_score(y_val, y_pred)\n",
    "print(\"F1 score: \", F1_score)"
   ]
  },
  {
   "cell_type": "markdown",
   "metadata": {},
   "source": [
    "#### 1.4: Using creatinine_phosphokinase,  serum_creatinine, serum_sodium and ejection_fraction as predictor variables"
   ]
  },
  {
   "cell_type": "code",
   "execution_count": 31,
   "metadata": {},
   "outputs": [],
   "source": [
    "selected_predictor_variables = ['creatinine_phosphokinase', \n",
    "                                'serum_creatinine',\n",
    "                               'serum_sodium',\n",
    "                               'ejection_fraction']"
   ]
  },
  {
   "cell_type": "code",
   "execution_count": 32,
   "metadata": {},
   "outputs": [
    {
     "data": {
      "text/plain": [
       "DecisionTreeClassifier(ccp_alpha=0.0, class_weight=None, criterion='entropy',\n",
       "                       max_depth=None, max_features=None, max_leaf_nodes=None,\n",
       "                       min_impurity_decrease=0.0, min_impurity_split=None,\n",
       "                       min_samples_leaf=1, min_samples_split=2,\n",
       "                       min_weight_fraction_leaf=0.0, presort='deprecated',\n",
       "                       random_state=0, splitter='best')"
      ]
     },
     "execution_count": 32,
     "metadata": {},
     "output_type": "execute_result"
    }
   ],
   "source": [
    "classifier = DecisionTreeClassifier(criterion='entropy', random_state=0)\n",
    "classifier.fit(x_train_scaled_df[selected_predictor_variables], y_train)"
   ]
  },
  {
   "cell_type": "code",
   "execution_count": 33,
   "metadata": {},
   "outputs": [],
   "source": [
    "y_pred = classifier.predict(x_val_scaled_df[selected_predictor_variables])"
   ]
  },
  {
   "cell_type": "code",
   "execution_count": 34,
   "metadata": {},
   "outputs": [
    {
     "data": {
      "image/png": "[encoded data removed]",
      "text/plain": [
       "<Figure size 432x288 with 2 Axes>"
      ]
     },
     "metadata": {
      "needs_background": "light"
     },
     "output_type": "display_data"
    }
   ],
   "source": [
    "conf_matrix = metrics.confusion_matrix(y_val, y_pred)\n",
    "sns.heatmap(conf_matrix, annot = True, fmt = \".3f\", square = True, cmap = plt.cm.Blues)\n",
    "plt.ylabel('Actual')\n",
    "plt.xlabel('Predicted')\n",
    "plt.title('Confusion matrix')\n",
    "plt.tight_layout()"
   ]
  },
  {
   "cell_type": "code",
   "execution_count": 35,
   "metadata": {},
   "outputs": [
    {
     "name": "stdout",
     "output_type": "stream",
     "text": [
      "Accuracy:  0.6133333333333333\n",
      "Error:  0.3866666666666667\n",
      "Precision:  0.4642857142857143\n",
      "Recall:  0.48148148148148145\n",
      "F1 score:  0.4727272727272727\n"
     ]
    }
   ],
   "source": [
    "accuracy = metrics.accuracy_score(y_val, y_pred)\n",
    "print(\"Accuracy: \", accuracy)\n",
    "error = 1 - accuracy\n",
    "print(\"Error: \", error)\n",
    "precision = metrics.precision_score(y_val, y_pred)\n",
    "print(\"Precision: \", precision)\n",
    "recall = metrics.recall_score(y_val, y_pred)\n",
    "print(\"Recall: \", recall)\n",
    "F1_score = metrics.f1_score(y_val, y_pred)\n",
    "print(\"F1 score: \", F1_score)"
   ]
  },
  {
   "cell_type": "markdown",
   "metadata": {},
   "source": [
    "#### 1.5: Using serum_creatinine and ejection_fraction as predictor variables"
   ]
  },
  {
   "cell_type": "code",
   "execution_count": 36,
   "metadata": {},
   "outputs": [],
   "source": [
    "selected_predictor_variables = ['serum_creatinine',\n",
    "                               'ejection_fraction']"
   ]
  },
  {
   "cell_type": "code",
   "execution_count": 37,
   "metadata": {},
   "outputs": [
    {
     "data": {
      "text/plain": [
       "DecisionTreeClassifier(ccp_alpha=0.0, class_weight=None, criterion='entropy',\n",
       "                       max_depth=None, max_features=None, max_leaf_nodes=None,\n",
       "                       min_impurity_decrease=0.0, min_impurity_split=None,\n",
       "                       min_samples_leaf=1, min_samples_split=2,\n",
       "                       min_weight_fraction_leaf=0.0, presort='deprecated',\n",
       "                       random_state=0, splitter='best')"
      ]
     },
     "execution_count": 37,
     "metadata": {},
     "output_type": "execute_result"
    }
   ],
   "source": [
    "classifier = DecisionTreeClassifier(criterion='entropy', random_state=0)\n",
    "classifier.fit(x_train_scaled_df[selected_predictor_variables], y_train)"
   ]
  },
  {
   "cell_type": "code",
   "execution_count": 38,
   "metadata": {},
   "outputs": [],
   "source": [
    "y_pred = classifier.predict(x_val_scaled_df[selected_predictor_variables])"
   ]
  },
  {
   "cell_type": "code",
   "execution_count": 39,
   "metadata": {},
   "outputs": [
    {
     "data": {
      "image/png": "[encoded data removed]",
      "text/plain": [
       "<Figure size 432x288 with 2 Axes>"
      ]
     },
     "metadata": {
      "needs_background": "light"
     },
     "output_type": "display_data"
    }
   ],
   "source": [
    "conf_matrix = metrics.confusion_matrix(y_val, y_pred)\n",
    "sns.heatmap(conf_matrix, annot = True, fmt = \".3f\", square = True, cmap = plt.cm.Blues)\n",
    "plt.ylabel('Actual')\n",
    "plt.xlabel('Predicted')\n",
    "plt.title('Confusion matrix')\n",
    "plt.tight_layout()"
   ]
  },
  {
   "cell_type": "code",
   "execution_count": 40,
   "metadata": {},
   "outputs": [
    {
     "name": "stdout",
     "output_type": "stream",
     "text": [
      "Accuracy:  0.72\n",
      "Error:  0.28\n",
      "Precision:  0.6363636363636364\n",
      "Recall:  0.5185185185185185\n",
      "F1 score:  0.5714285714285714\n"
     ]
    }
   ],
   "source": [
    "accuracy = metrics.accuracy_score(y_val, y_pred)\n",
    "print(\"Accuracy: \", accuracy)\n",
    "error = 1 - accuracy\n",
    "print(\"Error: \", error)\n",
    "precision = metrics.precision_score(y_val, y_pred)\n",
    "print(\"Precision: \", precision)\n",
    "recall = metrics.recall_score(y_val, y_pred)\n",
    "print(\"Recall: \", recall)\n",
    "F1_score = metrics.f1_score(y_val, y_pred)\n",
    "print(\"F1 score: \", F1_score)"
   ]
  },
  {
   "cell_type": "markdown",
   "metadata": {},
   "source": [
    "# 2) K Nearest Neighbors"
   ]
  },
  {
   "cell_type": "markdown",
   "metadata": {},
   "source": [
    "#### 2.1: Using all predictor variables"
   ]
  },
  {
   "cell_type": "code",
   "execution_count": 41,
   "metadata": {
    "scrolled": false
   },
   "outputs": [
    {
     "name": "stderr",
     "output_type": "stream",
     "text": [
      "/home/ashwin/anaconda3/lib/python3.7/site-packages/ipykernel_launcher.py:2: DataConversionWarning: A column-vector y was passed when a 1d array was expected. Please change the shape of y to (n_samples, ), for example using ravel().\n",
      "  \n"
     ]
    },
    {
     "data": {
      "text/plain": [
       "KNeighborsClassifier(algorithm='auto', leaf_size=30, metric='minkowski',\n",
       "                     metric_params=None, n_jobs=None, n_neighbors=3, p=2,\n",
       "                     weights='uniform')"
      ]
     },
     "execution_count": 41,
     "metadata": {},
     "output_type": "execute_result"
    }
   ],
   "source": [
    "classifier = KNeighborsClassifier(n_neighbors=3)  \n",
    "classifier.fit(x_train_scaled, y_train)"
   ]
  },
  {
   "cell_type": "code",
   "execution_count": 42,
   "metadata": {},
   "outputs": [],
   "source": [
    "y_pred = classifier.predict(x_val_scaled)"
   ]
  },
  {
   "cell_type": "code",
   "execution_count": 43,
   "metadata": {},
   "outputs": [
    {
     "data": {
      "image/png": "[encoded data removed]",
      "text/plain": [
       "<Figure size 432x288 with 2 Axes>"
      ]
     },
     "metadata": {
      "needs_background": "light"
     },
     "output_type": "display_data"
    }
   ],
   "source": [
    "conf_matrix = metrics.confusion_matrix(y_val, y_pred)\n",
    "sns.heatmap(conf_matrix, annot = True, fmt = \".3f\", square = True, cmap = plt.cm.Blues)\n",
    "plt.ylabel('Actual')\n",
    "plt.xlabel('Predicted')\n",
    "plt.title('Confusion matrix')\n",
    "plt.tight_layout()"
   ]
  },
  {
   "cell_type": "code",
   "execution_count": 44,
   "metadata": {},
   "outputs": [
    {
     "name": "stdout",
     "output_type": "stream",
     "text": [
      "Accuracy:  0.6933333333333334\n",
      "Error:  0.30666666666666664\n",
      "Precision:  0.6666666666666666\n",
      "Recall:  0.2962962962962963\n",
      "F1 score:  0.41025641025641024\n"
     ]
    }
   ],
   "source": [
    "accuracy = metrics.accuracy_score(y_val, y_pred)\n",
    "print(\"Accuracy: \", accuracy)\n",
    "error = 1 - accuracy\n",
    "print(\"Error: \", error)\n",
    "precision = metrics.precision_score(y_val, y_pred)\n",
    "print(\"Precision: \", precision)\n",
    "recall = metrics.recall_score(y_val, y_pred)\n",
    "print(\"Recall: \", recall)\n",
    "F1_score = metrics.f1_score(y_val, y_pred)\n",
    "print(\"F1 score: \", F1_score)\n"
   ]
  },
  {
   "cell_type": "markdown",
   "metadata": {},
   "source": [
    "#### 2.2: Using Age and Gender Variables"
   ]
  },
  {
   "cell_type": "code",
   "execution_count": 45,
   "metadata": {},
   "outputs": [],
   "source": [
    "selected_predictor_variables = ['age', \n",
    "                                'sex']"
   ]
  },
  {
   "cell_type": "code",
   "execution_count": 46,
   "metadata": {},
   "outputs": [
    {
     "name": "stderr",
     "output_type": "stream",
     "text": [
      "/home/ashwin/anaconda3/lib/python3.7/site-packages/ipykernel_launcher.py:2: DataConversionWarning: A column-vector y was passed when a 1d array was expected. Please change the shape of y to (n_samples, ), for example using ravel().\n",
      "  \n"
     ]
    },
    {
     "data": {
      "text/plain": [
       "KNeighborsClassifier(algorithm='auto', leaf_size=30, metric='minkowski',\n",
       "                     metric_params=None, n_jobs=None, n_neighbors=3, p=2,\n",
       "                     weights='uniform')"
      ]
     },
     "execution_count": 46,
     "metadata": {},
     "output_type": "execute_result"
    }
   ],
   "source": [
    "classifier = KNeighborsClassifier(n_neighbors=3)  \n",
    "classifier.fit(x_train_scaled_df[selected_predictor_variables], y_train)"
   ]
  },
  {
   "cell_type": "code",
   "execution_count": 47,
   "metadata": {},
   "outputs": [],
   "source": [
    "y_pred = classifier.predict(x_val_scaled_df[selected_predictor_variables])"
   ]
  },
  {
   "cell_type": "code",
   "execution_count": 48,
   "metadata": {},
   "outputs": [
    {
     "data": {
      "image/png": "[encoded data removed]",
      "text/plain": [
       "<Figure size 432x288 with 2 Axes>"
      ]
     },
     "metadata": {
      "needs_background": "light"
     },
     "output_type": "display_data"
    }
   ],
   "source": [
    "conf_matrix = metrics.confusion_matrix(y_val, y_pred)\n",
    "sns.heatmap(conf_matrix, annot = True, fmt = \".3f\", square = True, cmap = plt.cm.Blues)\n",
    "plt.ylabel('Actual')\n",
    "plt.xlabel('Predicted')\n",
    "plt.title('Confusion matrix')\n",
    "plt.tight_layout()"
   ]
  },
  {
   "cell_type": "code",
   "execution_count": 49,
   "metadata": {},
   "outputs": [
    {
     "name": "stdout",
     "output_type": "stream",
     "text": [
      "Accuracy:  0.5866666666666667\n",
      "Error:  0.41333333333333333\n",
      "Precision:  0.4166666666666667\n",
      "Recall:  0.37037037037037035\n",
      "F1 score:  0.39215686274509803\n"
     ]
    }
   ],
   "source": [
    "accuracy = metrics.accuracy_score(y_val, y_pred)\n",
    "print(\"Accuracy: \", accuracy)\n",
    "error = 1 - accuracy\n",
    "print(\"Error: \", error)\n",
    "precision = metrics.precision_score(y_val, y_pred)\n",
    "print(\"Precision: \", precision)\n",
    "recall = metrics.recall_score(y_val, y_pred)\n",
    "print(\"Recall: \", recall)\n",
    "F1_score = metrics.f1_score(y_val, y_pred)\n",
    "print(\"F1 score: \", F1_score)\n"
   ]
  },
  {
   "cell_type": "markdown",
   "metadata": {},
   "source": [
    "#### 2.3: Using Diabetes, High Blood Pressure and anaemia, platelets, smoking as predictor variables"
   ]
  },
  {
   "cell_type": "code",
   "execution_count": 50,
   "metadata": {},
   "outputs": [],
   "source": [
    "selected_predictor_variables = ['anaemia', \n",
    "                                'diabetes',\n",
    "                               'platelets', 'high_blood_pressure', 'smoking']"
   ]
  },
  {
   "cell_type": "code",
   "execution_count": 51,
   "metadata": {},
   "outputs": [
    {
     "name": "stderr",
     "output_type": "stream",
     "text": [
      "/home/ashwin/anaconda3/lib/python3.7/site-packages/ipykernel_launcher.py:2: DataConversionWarning: A column-vector y was passed when a 1d array was expected. Please change the shape of y to (n_samples, ), for example using ravel().\n",
      "  \n"
     ]
    },
    {
     "data": {
      "text/plain": [
       "KNeighborsClassifier(algorithm='auto', leaf_size=30, metric='minkowski',\n",
       "                     metric_params=None, n_jobs=None, n_neighbors=3, p=2,\n",
       "                     weights='uniform')"
      ]
     },
     "execution_count": 51,
     "metadata": {},
     "output_type": "execute_result"
    }
   ],
   "source": [
    "classifier = KNeighborsClassifier(n_neighbors=3)  \n",
    "classifier.fit(x_train_scaled_df[selected_predictor_variables], y_train)"
   ]
  },
  {
   "cell_type": "code",
   "execution_count": 52,
   "metadata": {},
   "outputs": [],
   "source": [
    "y_pred = classifier.predict(x_val_scaled_df[selected_predictor_variables])"
   ]
  },
  {
   "cell_type": "code",
   "execution_count": 53,
   "metadata": {},
   "outputs": [
    {
     "data": {
      "image/png": "[encoded data removed]",
      "text/plain": [
       "<Figure size 432x288 with 2 Axes>"
      ]
     },
     "metadata": {
      "needs_background": "light"
     },
     "output_type": "display_data"
    }
   ],
   "source": [
    "conf_matrix = metrics.confusion_matrix(y_val, y_pred)\n",
    "sns.heatmap(conf_matrix, annot = True, fmt = \".3f\", square = True, cmap = plt.cm.Blues)\n",
    "plt.ylabel('Actual')\n",
    "plt.xlabel('Predicted')\n",
    "plt.title('Confusion matrix')\n",
    "plt.tight_layout()"
   ]
  },
  {
   "cell_type": "code",
   "execution_count": 54,
   "metadata": {},
   "outputs": [
    {
     "name": "stdout",
     "output_type": "stream",
     "text": [
      "Accuracy:  0.5466666666666666\n",
      "Error:  0.45333333333333337\n",
      "Precision:  0.3333333333333333\n",
      "Recall:  0.25925925925925924\n",
      "F1 score:  0.2916666666666667\n"
     ]
    }
   ],
   "source": [
    "accuracy = metrics.accuracy_score(y_val, y_pred)\n",
    "print(\"Accuracy: \", accuracy)\n",
    "error = 1 - accuracy\n",
    "print(\"Error: \", error)\n",
    "precision = metrics.precision_score(y_val, y_pred)\n",
    "print(\"Precision: \", precision)\n",
    "recall = metrics.recall_score(y_val, y_pred)\n",
    "print(\"Recall: \", recall)\n",
    "F1_score = metrics.f1_score(y_val, y_pred)\n",
    "print(\"F1 score: \", F1_score)"
   ]
  },
  {
   "cell_type": "markdown",
   "metadata": {},
   "source": [
    "#### 2.4: Using creatinine_phosphokinase,  serum_creatinine, serum_sodium and ejection_fraction as predictor variables"
   ]
  },
  {
   "cell_type": "code",
   "execution_count": 55,
   "metadata": {},
   "outputs": [],
   "source": [
    "selected_predictor_variables = ['creatinine_phosphokinase', \n",
    "                                'serum_creatinine',\n",
    "                               'serum_sodium',\n",
    "                               'ejection_fraction']"
   ]
  },
  {
   "cell_type": "code",
   "execution_count": 56,
   "metadata": {},
   "outputs": [
    {
     "name": "stderr",
     "output_type": "stream",
     "text": [
      "/home/ashwin/anaconda3/lib/python3.7/site-packages/ipykernel_launcher.py:2: DataConversionWarning: A column-vector y was passed when a 1d array was expected. Please change the shape of y to (n_samples, ), for example using ravel().\n",
      "  \n"
     ]
    },
    {
     "data": {
      "text/plain": [
       "KNeighborsClassifier(algorithm='auto', leaf_size=30, metric='minkowski',\n",
       "                     metric_params=None, n_jobs=None, n_neighbors=3, p=2,\n",
       "                     weights='uniform')"
      ]
     },
     "execution_count": 56,
     "metadata": {},
     "output_type": "execute_result"
    }
   ],
   "source": [
    "classifier = KNeighborsClassifier(n_neighbors=3)  \n",
    "classifier.fit(x_train_scaled_df[selected_predictor_variables], y_train)"
   ]
  },
  {
   "cell_type": "code",
   "execution_count": 57,
   "metadata": {},
   "outputs": [],
   "source": [
    "y_pred = classifier.predict(x_val_scaled_df[selected_predictor_variables])"
   ]
  },
  {
   "cell_type": "code",
   "execution_count": 58,
   "metadata": {},
   "outputs": [
    {
     "data": {
      "image/png": "[encoded data removed]",
      "text/plain": [
       "<Figure size 432x288 with 2 Axes>"
      ]
     },
     "metadata": {
      "needs_background": "light"
     },
     "output_type": "display_data"
    }
   ],
   "source": [
    "conf_matrix = metrics.confusion_matrix(y_val, y_pred)\n",
    "sns.heatmap(conf_matrix, annot = True, fmt = \".3f\", square = True, cmap = plt.cm.Blues)\n",
    "plt.ylabel('Actual')\n",
    "plt.xlabel('Predicted')\n",
    "plt.title('Confusion matrix')\n",
    "plt.tight_layout()"
   ]
  },
  {
   "cell_type": "code",
   "execution_count": 59,
   "metadata": {},
   "outputs": [
    {
     "name": "stdout",
     "output_type": "stream",
     "text": [
      "Accuracy:  0.6666666666666666\n",
      "Error:  0.33333333333333337\n",
      "Precision:  0.5555555555555556\n",
      "Recall:  0.37037037037037035\n",
      "F1 score:  0.4444444444444445\n"
     ]
    }
   ],
   "source": [
    "accuracy = metrics.accuracy_score(y_val, y_pred)\n",
    "print(\"Accuracy: \", accuracy)\n",
    "error = 1 - accuracy\n",
    "print(\"Error: \", error)\n",
    "precision = metrics.precision_score(y_val, y_pred)\n",
    "print(\"Precision: \", precision)\n",
    "recall = metrics.recall_score(y_val, y_pred)\n",
    "print(\"Recall: \", recall)\n",
    "F1_score = metrics.f1_score(y_val, y_pred)\n",
    "print(\"F1 score: \", F1_score)"
   ]
  },
  {
   "cell_type": "markdown",
   "metadata": {},
   "source": [
    "#### 2.5: Using serum_creatinine and ejection_fraction as predictor variables"
   ]
  },
  {
   "cell_type": "code",
   "execution_count": 60,
   "metadata": {},
   "outputs": [],
   "source": [
    "selected_predictor_variables = ['serum_creatinine',\n",
    "                               'ejection_fraction']"
   ]
  },
  {
   "cell_type": "code",
   "execution_count": 61,
   "metadata": {},
   "outputs": [
    {
     "name": "stderr",
     "output_type": "stream",
     "text": [
      "/home/ashwin/anaconda3/lib/python3.7/site-packages/ipykernel_launcher.py:2: DataConversionWarning: A column-vector y was passed when a 1d array was expected. Please change the shape of y to (n_samples, ), for example using ravel().\n",
      "  \n"
     ]
    },
    {
     "data": {
      "text/plain": [
       "KNeighborsClassifier(algorithm='auto', leaf_size=30, metric='minkowski',\n",
       "                     metric_params=None, n_jobs=None, n_neighbors=3, p=2,\n",
       "                     weights='uniform')"
      ]
     },
     "execution_count": 61,
     "metadata": {},
     "output_type": "execute_result"
    }
   ],
   "source": [
    "classifier_k_nearest = KNeighborsClassifier(n_neighbors=3)\n",
    "classifier_k_nearest.fit(x_train_scaled_df[selected_predictor_variables], y_train)"
   ]
  },
  {
   "cell_type": "code",
   "execution_count": 62,
   "metadata": {},
   "outputs": [],
   "source": [
    "y_pred = classifier_k_nearest.predict(x_val_scaled_df[selected_predictor_variables])"
   ]
  },
  {
   "cell_type": "code",
   "execution_count": 63,
   "metadata": {},
   "outputs": [
    {
     "data": {
      "image/png": "[encoded data removed]",
      "text/plain": [
       "<Figure size 432x288 with 2 Axes>"
      ]
     },
     "metadata": {
      "needs_background": "light"
     },
     "output_type": "display_data"
    }
   ],
   "source": [
    "conf_matrix = metrics.confusion_matrix(y_val, y_pred)\n",
    "sns.heatmap(conf_matrix, annot = True, fmt = \".3f\", square = True, cmap = plt.cm.Blues)\n",
    "plt.ylabel('Actual')\n",
    "plt.xlabel('Predicted')\n",
    "plt.title('Confusion matrix')\n",
    "plt.tight_layout()"
   ]
  },
  {
   "cell_type": "code",
   "execution_count": 64,
   "metadata": {},
   "outputs": [
    {
     "name": "stdout",
     "output_type": "stream",
     "text": [
      "Accuracy:  0.64\n",
      "Error:  0.36\n",
      "Precision:  0.5\n",
      "Recall:  0.4444444444444444\n",
      "F1 score:  0.47058823529411764\n"
     ]
    }
   ],
   "source": [
    "accuracy = metrics.accuracy_score(y_val, y_pred)\n",
    "print(\"Accuracy: \", accuracy)\n",
    "error = 1 - accuracy\n",
    "print(\"Error: \", error)\n",
    "precision = metrics.precision_score(y_val, y_pred)\n",
    "print(\"Precision: \", precision)\n",
    "recall = metrics.recall_score(y_val, y_pred)\n",
    "print(\"Recall: \", recall)\n",
    "F1_score = metrics.f1_score(y_val, y_pred)\n",
    "print(\"F1 score: \", F1_score)"
   ]
  },
  {
   "cell_type": "markdown",
   "metadata": {},
   "source": [
    "# 3) Naive Bayes"
   ]
  },
  {
   "cell_type": "markdown",
   "metadata": {},
   "source": [
    "#### 3.1: Using all predictor variables"
   ]
  },
  {
   "cell_type": "code",
   "execution_count": 65,
   "metadata": {},
   "outputs": [
    {
     "name": "stderr",
     "output_type": "stream",
     "text": [
      "/home/ashwin/anaconda3/lib/python3.7/site-packages/sklearn/naive_bayes.py:206: DataConversionWarning: A column-vector y was passed when a 1d array was expected. Please change the shape of y to (n_samples, ), for example using ravel().\n",
      "  y = column_or_1d(y, warn=True)\n"
     ]
    },
    {
     "data": {
      "text/plain": [
       "GaussianNB(priors=None, var_smoothing=1e-09)"
      ]
     },
     "execution_count": 65,
     "metadata": {},
     "output_type": "execute_result"
    }
   ],
   "source": [
    "classifier = GaussianNB() \n",
    "classifier.fit(x_train_scaled, y_train)"
   ]
  },
  {
   "cell_type": "code",
   "execution_count": 66,
   "metadata": {},
   "outputs": [],
   "source": [
    "y_pred = classifier.predict(x_val_scaled)"
   ]
  },
  {
   "cell_type": "code",
   "execution_count": 67,
   "metadata": {},
   "outputs": [
    {
     "data": {
      "image/png": "[encoded data removed]",
      "text/plain": [
       "<Figure size 432x288 with 2 Axes>"
      ]
     },
     "metadata": {
      "needs_background": "light"
     },
     "output_type": "display_data"
    }
   ],
   "source": [
    "conf_matrix = metrics.confusion_matrix(y_val, y_pred)\n",
    "sns.heatmap(conf_matrix, annot = True, fmt = \".3f\", square = True, cmap = plt.cm.Blues)\n",
    "plt.ylabel('Actual')\n",
    "plt.xlabel('Predicted')\n",
    "plt.title('Confusion matrix')\n",
    "plt.tight_layout()"
   ]
  },
  {
   "cell_type": "code",
   "execution_count": 68,
   "metadata": {},
   "outputs": [
    {
     "name": "stdout",
     "output_type": "stream",
     "text": [
      "Accuracy:  0.6666666666666666\n",
      "Error:  0.33333333333333337\n",
      "Precision:  0.5714285714285714\n",
      "Recall:  0.2962962962962963\n",
      "F1 score:  0.3902439024390244\n"
     ]
    }
   ],
   "source": [
    "accuracy = metrics.accuracy_score(y_val, y_pred)\n",
    "print(\"Accuracy: \", accuracy)\n",
    "error = 1 - accuracy\n",
    "print(\"Error: \", error)\n",
    "precision = metrics.precision_score(y_val, y_pred)\n",
    "print(\"Precision: \", precision)\n",
    "recall = metrics.recall_score(y_val, y_pred)\n",
    "print(\"Recall: \", recall)\n",
    "F1_score = metrics.f1_score(y_val, y_pred)\n",
    "print(\"F1 score: \", F1_score)\n"
   ]
  },
  {
   "cell_type": "markdown",
   "metadata": {},
   "source": [
    "#### 3.2: Using Age and Gender Variables"
   ]
  },
  {
   "cell_type": "code",
   "execution_count": 69,
   "metadata": {},
   "outputs": [],
   "source": [
    "selected_predictor_variables = ['age', \n",
    "                                'sex']"
   ]
  },
  {
   "cell_type": "code",
   "execution_count": 70,
   "metadata": {},
   "outputs": [
    {
     "name": "stderr",
     "output_type": "stream",
     "text": [
      "/home/ashwin/anaconda3/lib/python3.7/site-packages/sklearn/naive_bayes.py:206: DataConversionWarning: A column-vector y was passed when a 1d array was expected. Please change the shape of y to (n_samples, ), for example using ravel().\n",
      "  y = column_or_1d(y, warn=True)\n"
     ]
    },
    {
     "data": {
      "text/plain": [
       "GaussianNB(priors=None, var_smoothing=1e-09)"
      ]
     },
     "execution_count": 70,
     "metadata": {},
     "output_type": "execute_result"
    }
   ],
   "source": [
    "classifier = GaussianNB() \n",
    "classifier.fit(x_train_scaled_df[selected_predictor_variables], y_train)"
   ]
  },
  {
   "cell_type": "code",
   "execution_count": 71,
   "metadata": {},
   "outputs": [],
   "source": [
    "y_pred = classifier.predict(x_val_scaled_df[selected_predictor_variables])"
   ]
  },
  {
   "cell_type": "code",
   "execution_count": 72,
   "metadata": {},
   "outputs": [
    {
     "data": {
      "image/png": "[encoded data removed]",
      "text/plain": [
       "<Figure size 432x288 with 2 Axes>"
      ]
     },
     "metadata": {
      "needs_background": "light"
     },
     "output_type": "display_data"
    }
   ],
   "source": [
    "conf_matrix = metrics.confusion_matrix(y_val, y_pred)\n",
    "sns.heatmap(conf_matrix, annot = True, fmt = \".3f\", square = True, cmap = plt.cm.Blues)\n",
    "plt.ylabel('Actual')\n",
    "plt.xlabel('Predicted')\n",
    "plt.title('Confusion matrix')\n",
    "plt.tight_layout()"
   ]
  },
  {
   "cell_type": "code",
   "execution_count": 73,
   "metadata": {},
   "outputs": [
    {
     "name": "stdout",
     "output_type": "stream",
     "text": [
      "Accuracy:  0.6533333333333333\n",
      "Error:  0.3466666666666667\n",
      "Precision:  0.5714285714285714\n",
      "Recall:  0.14814814814814814\n",
      "F1 score:  0.23529411764705882\n"
     ]
    }
   ],
   "source": [
    "accuracy = metrics.accuracy_score(y_val, y_pred)\n",
    "print(\"Accuracy: \", accuracy)\n",
    "error = 1 - accuracy\n",
    "print(\"Error: \", error)\n",
    "precision = metrics.precision_score(y_val, y_pred)\n",
    "print(\"Precision: \", precision)\n",
    "recall = metrics.recall_score(y_val, y_pred)\n",
    "print(\"Recall: \", recall)\n",
    "F1_score = metrics.f1_score(y_val, y_pred)\n",
    "print(\"F1 score: \", F1_score)\n"
   ]
  },
  {
   "cell_type": "markdown",
   "metadata": {},
   "source": [
    "#### 3.3: Using Diabetes, High Blood Pressure and anaemia, platelets, smoking as predictor variables"
   ]
  },
  {
   "cell_type": "code",
   "execution_count": 74,
   "metadata": {},
   "outputs": [],
   "source": [
    "selected_predictor_variables = ['anaemia', \n",
    "                                'diabetes',\n",
    "                               'platelets', 'high_blood_pressure', 'smoking']"
   ]
  },
  {
   "cell_type": "code",
   "execution_count": 75,
   "metadata": {},
   "outputs": [
    {
     "name": "stderr",
     "output_type": "stream",
     "text": [
      "/home/ashwin/anaconda3/lib/python3.7/site-packages/sklearn/naive_bayes.py:206: DataConversionWarning: A column-vector y was passed when a 1d array was expected. Please change the shape of y to (n_samples, ), for example using ravel().\n",
      "  y = column_or_1d(y, warn=True)\n"
     ]
    },
    {
     "data": {
      "text/plain": [
       "GaussianNB(priors=None, var_smoothing=1e-09)"
      ]
     },
     "execution_count": 75,
     "metadata": {},
     "output_type": "execute_result"
    }
   ],
   "source": [
    "classifier = GaussianNB() \n",
    "classifier.fit(x_train_scaled_df[selected_predictor_variables], y_train)"
   ]
  },
  {
   "cell_type": "code",
   "execution_count": 76,
   "metadata": {},
   "outputs": [],
   "source": [
    "y_pred = classifier.predict(x_val_scaled_df[selected_predictor_variables])"
   ]
  },
  {
   "cell_type": "code",
   "execution_count": 77,
   "metadata": {},
   "outputs": [
    {
     "data": {
      "image/png": "[encoded data removed]",
      "text/plain": [
       "<Figure size 432x288 with 2 Axes>"
      ]
     },
     "metadata": {
      "needs_background": "light"
     },
     "output_type": "display_data"
    }
   ],
   "source": [
    "conf_matrix = metrics.confusion_matrix(y_val, y_pred)\n",
    "sns.heatmap(conf_matrix, annot = True, fmt = \".3f\", square = True, cmap = plt.cm.Blues)\n",
    "plt.ylabel('Actual')\n",
    "plt.xlabel('Predicted')\n",
    "plt.title('Confusion matrix')\n",
    "plt.tight_layout()"
   ]
  },
  {
   "cell_type": "code",
   "execution_count": 78,
   "metadata": {},
   "outputs": [
    {
     "name": "stdout",
     "output_type": "stream",
     "text": [
      "Accuracy:  0.64\n",
      "Error:  0.36\n",
      "Precision:  0.0\n",
      "Recall:  0.0\n",
      "F1 score:  0.0\n"
     ]
    },
    {
     "name": "stderr",
     "output_type": "stream",
     "text": [
      "/home/ashwin/anaconda3/lib/python3.7/site-packages/sklearn/metrics/_classification.py:1272: UndefinedMetricWarning: Precision is ill-defined and being set to 0.0 due to no predicted samples. Use `zero_division` parameter to control this behavior.\n",
      "  _warn_prf(average, modifier, msg_start, len(result))\n"
     ]
    }
   ],
   "source": [
    "accuracy = metrics.accuracy_score(y_val, y_pred)\n",
    "print(\"Accuracy: \", accuracy)\n",
    "error = 1 - accuracy\n",
    "print(\"Error: \", error)\n",
    "precision = metrics.precision_score(y_val, y_pred)\n",
    "print(\"Precision: \", precision)\n",
    "recall = metrics.recall_score(y_val, y_pred)\n",
    "print(\"Recall: \", recall)\n",
    "F1_score = metrics.f1_score(y_val, y_pred)\n",
    "print(\"F1 score: \", F1_score)"
   ]
  },
  {
   "cell_type": "markdown",
   "metadata": {},
   "source": [
    "#### 3.4: Using creatinine_phosphokinase,  serum_creatinine, serum_sodium and ejection_fraction as predictor variables"
   ]
  },
  {
   "cell_type": "code",
   "execution_count": 79,
   "metadata": {},
   "outputs": [],
   "source": [
    "selected_predictor_variables = ['creatinine_phosphokinase', \n",
    "                                'serum_creatinine',\n",
    "                               'serum_sodium',\n",
    "                               'ejection_fraction']"
   ]
  },
  {
   "cell_type": "code",
   "execution_count": 80,
   "metadata": {},
   "outputs": [
    {
     "name": "stderr",
     "output_type": "stream",
     "text": [
      "/home/ashwin/anaconda3/lib/python3.7/site-packages/sklearn/naive_bayes.py:206: DataConversionWarning: A column-vector y was passed when a 1d array was expected. Please change the shape of y to (n_samples, ), for example using ravel().\n",
      "  y = column_or_1d(y, warn=True)\n"
     ]
    },
    {
     "data": {
      "text/plain": [
       "GaussianNB(priors=None, var_smoothing=1e-09)"
      ]
     },
     "execution_count": 80,
     "metadata": {},
     "output_type": "execute_result"
    }
   ],
   "source": [
    "classifier = GaussianNB() \n",
    "classifier.fit(x_train_scaled_df[selected_predictor_variables], y_train)"
   ]
  },
  {
   "cell_type": "code",
   "execution_count": 81,
   "metadata": {},
   "outputs": [],
   "source": [
    "y_pred = classifier.predict(x_val_scaled_df[selected_predictor_variables])"
   ]
  },
  {
   "cell_type": "code",
   "execution_count": 82,
   "metadata": {},
   "outputs": [
    {
     "data": {
      "image/png": "[encoded data removed]",
      "text/plain": [
       "<Figure size 432x288 with 2 Axes>"
      ]
     },
     "metadata": {
      "needs_background": "light"
     },
     "output_type": "display_data"
    }
   ],
   "source": [
    "conf_matrix = metrics.confusion_matrix(y_val, y_pred)\n",
    "sns.heatmap(conf_matrix, annot = True, fmt = \".3f\", square = True, cmap = plt.cm.Blues)\n",
    "plt.ylabel('Actual')\n",
    "plt.xlabel('Predicted')\n",
    "plt.title('Confusion matrix')\n",
    "plt.tight_layout()"
   ]
  },
  {
   "cell_type": "code",
   "execution_count": 83,
   "metadata": {},
   "outputs": [
    {
     "name": "stdout",
     "output_type": "stream",
     "text": [
      "Accuracy:  0.64\n",
      "Error:  0.36\n",
      "Precision:  0.5\n",
      "Recall:  0.18518518518518517\n",
      "F1 score:  0.2702702702702703\n"
     ]
    }
   ],
   "source": [
    "accuracy = metrics.accuracy_score(y_val, y_pred)\n",
    "print(\"Accuracy: \", accuracy)\n",
    "error = 1 - accuracy\n",
    "print(\"Error: \", error)\n",
    "precision = metrics.precision_score(y_val, y_pred)\n",
    "print(\"Precision: \", precision)\n",
    "recall = metrics.recall_score(y_val, y_pred)\n",
    "print(\"Recall: \", recall)\n",
    "F1_score = metrics.f1_score(y_val, y_pred)\n",
    "print(\"F1 score: \", F1_score)"
   ]
  },
  {
   "cell_type": "markdown",
   "metadata": {},
   "source": [
    "#### 3.5: Using serum_creatinine and ejection_fraction as predictor variables"
   ]
  },
  {
   "cell_type": "code",
   "execution_count": 84,
   "metadata": {},
   "outputs": [],
   "source": [
    "selected_predictor_variables = ['serum_creatinine',\n",
    "                               'ejection_fraction']"
   ]
  },
  {
   "cell_type": "code",
   "execution_count": 85,
   "metadata": {
    "scrolled": true
   },
   "outputs": [
    {
     "name": "stderr",
     "output_type": "stream",
     "text": [
      "/home/ashwin/anaconda3/lib/python3.7/site-packages/sklearn/naive_bayes.py:206: DataConversionWarning: A column-vector y was passed when a 1d array was expected. Please change the shape of y to (n_samples, ), for example using ravel().\n",
      "  y = column_or_1d(y, warn=True)\n"
     ]
    },
    {
     "data": {
      "text/plain": [
       "GaussianNB(priors=None, var_smoothing=1e-09)"
      ]
     },
     "execution_count": 85,
     "metadata": {},
     "output_type": "execute_result"
    }
   ],
   "source": [
    "classifier = GaussianNB() \n",
    "classifier.fit(x_train_scaled_df[selected_predictor_variables], y_train)"
   ]
  },
  {
   "cell_type": "code",
   "execution_count": 86,
   "metadata": {},
   "outputs": [],
   "source": [
    "y_pred = classifier.predict(x_val_scaled_df[selected_predictor_variables])"
   ]
  },
  {
   "cell_type": "code",
   "execution_count": 87,
   "metadata": {},
   "outputs": [
    {
     "data": {
      "image/png": "[encoded data removed]",
      "text/plain": [
       "<Figure size 432x288 with 2 Axes>"
      ]
     },
     "metadata": {
      "needs_background": "light"
     },
     "output_type": "display_data"
    }
   ],
   "source": [
    "conf_matrix = metrics.confusion_matrix(y_val, y_pred)\n",
    "sns.heatmap(conf_matrix, annot = True, fmt = \".3f\", square = True, cmap = plt.cm.Blues)\n",
    "plt.ylabel('Actual')\n",
    "plt.xlabel('Predicted')\n",
    "plt.title('Confusion matrix')\n",
    "plt.tight_layout()"
   ]
  },
  {
   "cell_type": "code",
   "execution_count": 88,
   "metadata": {},
   "outputs": [
    {
     "name": "stdout",
     "output_type": "stream",
     "text": [
      "Accuracy:  0.6666666666666666\n",
      "Error:  0.33333333333333337\n",
      "Precision:  0.6666666666666666\n",
      "Recall:  0.14814814814814814\n",
      "F1 score:  0.24242424242424243\n"
     ]
    }
   ],
   "source": [
    "accuracy = metrics.accuracy_score(y_val, y_pred)\n",
    "print(\"Accuracy: \", accuracy)\n",
    "error = 1 - accuracy\n",
    "print(\"Error: \", error)\n",
    "precision = metrics.precision_score(y_val, y_pred)\n",
    "print(\"Precision: \", precision)\n",
    "recall = metrics.recall_score(y_val, y_pred)\n",
    "print(\"Recall: \", recall)\n",
    "F1_score = metrics.f1_score(y_val, y_pred)\n",
    "print(\"F1 score: \", F1_score)"
   ]
  },
  {
   "cell_type": "markdown",
   "metadata": {},
   "source": [
    "# 4) Support Vector Machine "
   ]
  },
  {
   "cell_type": "markdown",
   "metadata": {},
   "source": [
    "#### 4.1: Using all predictor variables"
   ]
  },
  {
   "cell_type": "code",
   "execution_count": 89,
   "metadata": {},
   "outputs": [
    {
     "name": "stderr",
     "output_type": "stream",
     "text": [
      "/home/ashwin/anaconda3/lib/python3.7/site-packages/sklearn/utils/validation.py:760: DataConversionWarning: A column-vector y was passed when a 1d array was expected. Please change the shape of y to (n_samples, ), for example using ravel().\n",
      "  y = column_or_1d(y, warn=True)\n"
     ]
    },
    {
     "data": {
      "text/plain": [
       "SVC(C=1.0, break_ties=False, cache_size=200, class_weight=None, coef0=0.0,\n",
       "    decision_function_shape='ovr', degree=3, gamma='scale', kernel='rbf',\n",
       "    max_iter=-1, probability=False, random_state=None, shrinking=True,\n",
       "    tol=0.001, verbose=False)"
      ]
     },
     "execution_count": 89,
     "metadata": {},
     "output_type": "execute_result"
    }
   ],
   "source": [
    "classifier = SVC(kernel='rbf')  \n",
    "classifier.fit(x_train_scaled, y_train)"
   ]
  },
  {
   "cell_type": "code",
   "execution_count": 90,
   "metadata": {},
   "outputs": [],
   "source": [
    "y_pred = classifier.predict(x_val_scaled)"
   ]
  },
  {
   "cell_type": "code",
   "execution_count": 91,
   "metadata": {},
   "outputs": [
    {
     "data": {
      "image/png": "[encoded data removed]",
      "text/plain": [
       "<Figure size 432x288 with 2 Axes>"
      ]
     },
     "metadata": {
      "needs_background": "light"
     },
     "output_type": "display_data"
    }
   ],
   "source": [
    "conf_matrix = metrics.confusion_matrix(y_val, y_pred)\n",
    "sns.heatmap(conf_matrix, annot = True, fmt = \".3f\", square = True, cmap = plt.cm.Blues)\n",
    "plt.ylabel('Actual')\n",
    "plt.xlabel('Predicted')\n",
    "plt.title('Confusion matrix')\n",
    "plt.tight_layout()"
   ]
  },
  {
   "cell_type": "code",
   "execution_count": 92,
   "metadata": {},
   "outputs": [
    {
     "name": "stdout",
     "output_type": "stream",
     "text": [
      "Accuracy:  0.8133333333333334\n",
      "Error:  0.18666666666666665\n",
      "Precision:  0.8421052631578947\n",
      "Recall:  0.5925925925925926\n",
      "F1 score:  0.6956521739130435\n"
     ]
    }
   ],
   "source": [
    "accuracy = metrics.accuracy_score(y_val, y_pred)\n",
    "print(\"Accuracy: \", accuracy)\n",
    "error = 1 - accuracy\n",
    "print(\"Error: \", error)\n",
    "precision = metrics.precision_score(y_val, y_pred)\n",
    "print(\"Precision: \", precision)\n",
    "recall = metrics.recall_score(y_val, y_pred)\n",
    "print(\"Recall: \", recall)\n",
    "F1_score = metrics.f1_score(y_val, y_pred)\n",
    "print(\"F1 score: \", F1_score)"
   ]
  },
  {
   "cell_type": "markdown",
   "metadata": {},
   "source": [
    "#### 4.2: Using Age and Gender Variables"
   ]
  },
  {
   "cell_type": "code",
   "execution_count": 93,
   "metadata": {},
   "outputs": [],
   "source": [
    "selected_predictor_variables = ['age', \n",
    "                                'sex']"
   ]
  },
  {
   "cell_type": "code",
   "execution_count": 94,
   "metadata": {},
   "outputs": [
    {
     "name": "stderr",
     "output_type": "stream",
     "text": [
      "/home/ashwin/anaconda3/lib/python3.7/site-packages/sklearn/utils/validation.py:760: DataConversionWarning: A column-vector y was passed when a 1d array was expected. Please change the shape of y to (n_samples, ), for example using ravel().\n",
      "  y = column_or_1d(y, warn=True)\n"
     ]
    },
    {
     "data": {
      "text/plain": [
       "SVC(C=1.0, break_ties=False, cache_size=200, class_weight=None, coef0=0.0,\n",
       "    decision_function_shape='ovr', degree=3, gamma='scale', kernel='rbf',\n",
       "    max_iter=-1, probability=False, random_state=None, shrinking=True,\n",
       "    tol=0.001, verbose=False)"
      ]
     },
     "execution_count": 94,
     "metadata": {},
     "output_type": "execute_result"
    }
   ],
   "source": [
    "classifier = SVC(kernel='rbf')  \n",
    "classifier.fit(x_train_scaled_df[selected_predictor_variables], y_train)"
   ]
  },
  {
   "cell_type": "code",
   "execution_count": 95,
   "metadata": {},
   "outputs": [],
   "source": [
    "y_pred = classifier.predict(x_val_scaled_df[selected_predictor_variables])"
   ]
  },
  {
   "cell_type": "code",
   "execution_count": 96,
   "metadata": {},
   "outputs": [
    {
     "data": {
      "image/png": "[encoded data removed]",
      "text/plain": [
       "<Figure size 432x288 with 2 Axes>"
      ]
     },
     "metadata": {
      "needs_background": "light"
     },
     "output_type": "display_data"
    }
   ],
   "source": [
    "conf_matrix = metrics.confusion_matrix(y_val, y_pred)\n",
    "sns.heatmap(conf_matrix, annot = True, fmt = \".3f\", square = True, cmap = plt.cm.Blues)\n",
    "plt.ylabel('Actual')\n",
    "plt.xlabel('Predicted')\n",
    "plt.title('Confusion matrix')\n",
    "plt.tight_layout()"
   ]
  },
  {
   "cell_type": "code",
   "execution_count": 97,
   "metadata": {},
   "outputs": [
    {
     "name": "stdout",
     "output_type": "stream",
     "text": [
      "Accuracy:  0.6533333333333333\n",
      "Error:  0.3466666666666667\n",
      "Precision:  0.5714285714285714\n",
      "Recall:  0.14814814814814814\n",
      "F1 score:  0.23529411764705882\n"
     ]
    }
   ],
   "source": [
    "accuracy = metrics.accuracy_score(y_val, y_pred)\n",
    "print(\"Accuracy: \", accuracy)\n",
    "error = 1 - accuracy\n",
    "print(\"Error: \", error)\n",
    "precision = metrics.precision_score(y_val, y_pred)\n",
    "print(\"Precision: \", precision)\n",
    "recall = metrics.recall_score(y_val, y_pred)\n",
    "print(\"Recall: \", recall)\n",
    "F1_score = metrics.f1_score(y_val, y_pred)\n",
    "print(\"F1 score: \", F1_score)"
   ]
  },
  {
   "cell_type": "markdown",
   "metadata": {},
   "source": [
    "#### 4.3: Using Diabetes, High Blood Pressure and anaemia, platelets, smoking as predictor variables"
   ]
  },
  {
   "cell_type": "code",
   "execution_count": 98,
   "metadata": {},
   "outputs": [],
   "source": [
    "selected_predictor_variables = ['anaemia', \n",
    "                                'diabetes',\n",
    "                               'platelets', 'high_blood_pressure', 'smoking']"
   ]
  },
  {
   "cell_type": "code",
   "execution_count": 99,
   "metadata": {},
   "outputs": [
    {
     "name": "stderr",
     "output_type": "stream",
     "text": [
      "/home/ashwin/anaconda3/lib/python3.7/site-packages/sklearn/utils/validation.py:760: DataConversionWarning: A column-vector y was passed when a 1d array was expected. Please change the shape of y to (n_samples, ), for example using ravel().\n",
      "  y = column_or_1d(y, warn=True)\n"
     ]
    },
    {
     "data": {
      "text/plain": [
       "SVC(C=1.0, break_ties=False, cache_size=200, class_weight=None, coef0=0.0,\n",
       "    decision_function_shape='ovr', degree=3, gamma='scale', kernel='rbf',\n",
       "    max_iter=-1, probability=False, random_state=None, shrinking=True,\n",
       "    tol=0.001, verbose=False)"
      ]
     },
     "execution_count": 99,
     "metadata": {},
     "output_type": "execute_result"
    }
   ],
   "source": [
    "classifier = SVC(kernel='rbf')  \n",
    "classifier.fit(x_train_scaled_df[selected_predictor_variables], y_train)"
   ]
  },
  {
   "cell_type": "code",
   "execution_count": 100,
   "metadata": {},
   "outputs": [],
   "source": [
    "y_pred = classifier.predict(x_val_scaled_df[selected_predictor_variables])"
   ]
  },
  {
   "cell_type": "code",
   "execution_count": 101,
   "metadata": {},
   "outputs": [
    {
     "data": {
      "image/png": "[encoded data removed]",
      "text/plain": [
       "<Figure size 432x288 with 2 Axes>"
      ]
     },
     "metadata": {
      "needs_background": "light"
     },
     "output_type": "display_data"
    }
   ],
   "source": [
    "conf_matrix = metrics.confusion_matrix(y_val, y_pred)\n",
    "sns.heatmap(conf_matrix, annot = True, fmt = \".3f\", square = True, cmap = plt.cm.Blues)\n",
    "plt.ylabel('Actual')\n",
    "plt.xlabel('Predicted')\n",
    "plt.title('Confusion matrix')\n",
    "plt.tight_layout()"
   ]
  },
  {
   "cell_type": "code",
   "execution_count": 102,
   "metadata": {},
   "outputs": [
    {
     "name": "stdout",
     "output_type": "stream",
     "text": [
      "Accuracy:  0.64\n",
      "Error:  0.36\n",
      "Precision:  0.0\n",
      "Recall:  0.0\n",
      "F1 score:  0.0\n"
     ]
    },
    {
     "name": "stderr",
     "output_type": "stream",
     "text": [
      "/home/ashwin/anaconda3/lib/python3.7/site-packages/sklearn/metrics/_classification.py:1272: UndefinedMetricWarning: Precision is ill-defined and being set to 0.0 due to no predicted samples. Use `zero_division` parameter to control this behavior.\n",
      "  _warn_prf(average, modifier, msg_start, len(result))\n"
     ]
    }
   ],
   "source": [
    "accuracy = metrics.accuracy_score(y_val, y_pred)\n",
    "print(\"Accuracy: \", accuracy)\n",
    "error = 1 - accuracy\n",
    "print(\"Error: \", error)\n",
    "precision = metrics.precision_score(y_val, y_pred)\n",
    "print(\"Precision: \", precision)\n",
    "recall = metrics.recall_score(y_val, y_pred)\n",
    "print(\"Recall: \", recall)\n",
    "F1_score = metrics.f1_score(y_val, y_pred)\n",
    "print(\"F1 score: \", F1_score)"
   ]
  },
  {
   "cell_type": "markdown",
   "metadata": {},
   "source": [
    "#### 4.4: Using creatinine_phosphokinase,  serum_creatinine, serum_sodium and ejection_fraction as predictor variables"
   ]
  },
  {
   "cell_type": "code",
   "execution_count": 103,
   "metadata": {},
   "outputs": [],
   "source": [
    "selected_predictor_variables = ['creatinine_phosphokinase', \n",
    "                                'serum_creatinine',\n",
    "                               'serum_sodium',\n",
    "                               'ejection_fraction']"
   ]
  },
  {
   "cell_type": "code",
   "execution_count": 104,
   "metadata": {},
   "outputs": [
    {
     "name": "stderr",
     "output_type": "stream",
     "text": [
      "/home/ashwin/anaconda3/lib/python3.7/site-packages/sklearn/utils/validation.py:760: DataConversionWarning: A column-vector y was passed when a 1d array was expected. Please change the shape of y to (n_samples, ), for example using ravel().\n",
      "  y = column_or_1d(y, warn=True)\n"
     ]
    },
    {
     "data": {
      "text/plain": [
       "SVC(C=1.0, break_ties=False, cache_size=200, class_weight=None, coef0=0.0,\n",
       "    decision_function_shape='ovr', degree=3, gamma='scale', kernel='rbf',\n",
       "    max_iter=-1, probability=False, random_state=None, shrinking=True,\n",
       "    tol=0.001, verbose=False)"
      ]
     },
     "execution_count": 104,
     "metadata": {},
     "output_type": "execute_result"
    }
   ],
   "source": [
    "classifier = SVC(kernel='rbf')  \n",
    "classifier.fit(x_train_scaled_df[selected_predictor_variables], y_train)"
   ]
  },
  {
   "cell_type": "code",
   "execution_count": 105,
   "metadata": {},
   "outputs": [],
   "source": [
    "y_pred = classifier.predict(x_val_scaled_df[selected_predictor_variables])"
   ]
  },
  {
   "cell_type": "code",
   "execution_count": 106,
   "metadata": {},
   "outputs": [
    {
     "data": {
      "image/png": "[encoded data removed]",
      "text/plain": [
       "<Figure size 432x288 with 2 Axes>"
      ]
     },
     "metadata": {
      "needs_background": "light"
     },
     "output_type": "display_data"
    }
   ],
   "source": [
    "conf_matrix = metrics.confusion_matrix(y_val, y_pred)\n",
    "sns.heatmap(conf_matrix, annot = True, fmt = \".3f\", square = True, cmap = plt.cm.Blues)\n",
    "plt.ylabel('Actual')\n",
    "plt.xlabel('Predicted')\n",
    "plt.title('Confusion matrix')\n",
    "plt.tight_layout()"
   ]
  },
  {
   "cell_type": "code",
   "execution_count": 107,
   "metadata": {},
   "outputs": [
    {
     "name": "stdout",
     "output_type": "stream",
     "text": [
      "Accuracy:  0.7333333333333333\n",
      "Error:  0.2666666666666667\n",
      "Precision:  0.6842105263157895\n",
      "Recall:  0.48148148148148145\n",
      "F1 score:  0.5652173913043478\n"
     ]
    }
   ],
   "source": [
    "accuracy = metrics.accuracy_score(y_val, y_pred)\n",
    "print(\"Accuracy: \", accuracy)\n",
    "error = 1 - accuracy\n",
    "print(\"Error: \", error)\n",
    "precision = metrics.precision_score(y_val, y_pred)\n",
    "print(\"Precision: \", precision)\n",
    "recall = metrics.recall_score(y_val, y_pred)\n",
    "print(\"Recall: \", recall)\n",
    "F1_score = metrics.f1_score(y_val, y_pred)\n",
    "print(\"F1 score: \", F1_score)"
   ]
  },
  {
   "cell_type": "markdown",
   "metadata": {},
   "source": [
    "#### 4.5: Using serum_creatinine and ejection_fraction as predictor variables"
   ]
  },
  {
   "cell_type": "code",
   "execution_count": 108,
   "metadata": {},
   "outputs": [],
   "source": [
    "selected_predictor_variables = ['serum_creatinine',\n",
    "                               'ejection_fraction']"
   ]
  },
  {
   "cell_type": "code",
   "execution_count": 109,
   "metadata": {},
   "outputs": [
    {
     "name": "stderr",
     "output_type": "stream",
     "text": [
      "/home/ashwin/anaconda3/lib/python3.7/site-packages/sklearn/utils/validation.py:760: DataConversionWarning: A column-vector y was passed when a 1d array was expected. Please change the shape of y to (n_samples, ), for example using ravel().\n",
      "  y = column_or_1d(y, warn=True)\n"
     ]
    },
    {
     "data": {
      "text/plain": [
       "SVC(C=1.0, break_ties=False, cache_size=200, class_weight=None, coef0=0.0,\n",
       "    decision_function_shape='ovr', degree=3, gamma='scale', kernel='rbf',\n",
       "    max_iter=-1, probability=False, random_state=None, shrinking=True,\n",
       "    tol=0.001, verbose=False)"
      ]
     },
     "execution_count": 109,
     "metadata": {},
     "output_type": "execute_result"
    }
   ],
   "source": [
    "classifier = SVC(kernel='rbf')  \n",
    "classifier.fit(x_train_scaled_df[selected_predictor_variables], y_train)"
   ]
  },
  {
   "cell_type": "code",
   "execution_count": 110,
   "metadata": {},
   "outputs": [],
   "source": [
    "y_pred = classifier.predict(x_val_scaled_df[selected_predictor_variables])"
   ]
  },
  {
   "cell_type": "code",
   "execution_count": 111,
   "metadata": {},
   "outputs": [
    {
     "data": {
      "image/png": "[encoded data removed]",
      "text/plain": [
       "<Figure size 432x288 with 2 Axes>"
      ]
     },
     "metadata": {
      "needs_background": "light"
     },
     "output_type": "display_data"
    }
   ],
   "source": [
    "conf_matrix = metrics.confusion_matrix(y_val, y_pred)\n",
    "sns.heatmap(conf_matrix, annot = True, fmt = \".3f\", square = True, cmap = plt.cm.Blues)\n",
    "plt.ylabel('Actual')\n",
    "plt.xlabel('Predicted')\n",
    "plt.title('Confusion matrix')\n",
    "plt.tight_layout()"
   ]
  },
  {
   "cell_type": "code",
   "execution_count": 112,
   "metadata": {},
   "outputs": [
    {
     "name": "stdout",
     "output_type": "stream",
     "text": [
      "Accuracy:  0.7466666666666667\n",
      "Error:  0.2533333333333333\n",
      "Precision:  0.7\n",
      "Recall:  0.5185185185185185\n",
      "F1 score:  0.5957446808510639\n"
     ]
    }
   ],
   "source": [
    "accuracy = metrics.accuracy_score(y_val, y_pred)\n",
    "print(\"Accuracy: \", accuracy)\n",
    "error = 1 - accuracy\n",
    "print(\"Error: \", error)\n",
    "precision = metrics.precision_score(y_val, y_pred)\n",
    "print(\"Precision: \", precision)\n",
    "recall = metrics.recall_score(y_val, y_pred)\n",
    "print(\"Recall: \", recall)\n",
    "F1_score = metrics.f1_score(y_val, y_pred)\n",
    "print(\"F1 score: \", F1_score)"
   ]
  },
  {
   "cell_type": "markdown",
   "metadata": {},
   "source": [
    "### Classification: Model Performances\n",
    "* **Decision Tree**\n",
    "\n",
    "|                  Variables                                                      | Accuracy | Precision | Recall | F1 Score |\n",
    "|:-------------------------------------------------------------------------------:|:--------:|:---------:|:------:|:--------:|\n",
    "|                     All                                                         |   0.81   |    0.72   |  0.78  |   0.75   |\n",
    "|                Age & Gender                                                     |   0.65   |    0.53   |  0.30  |   0.38   |\n",
    "|     Diabetes, High BP, Platelets, Anaemia & Smoking                             |   0.51   |    0.29   |  0.26  |   0.27   |\n",
    "| creatinine_phosphokinase, serum_creatinine,serum_sodium and ejection_fraction   |   0.61   |    0.46   |  0.48  |   0.47   | \n",
    "|    serum_sodium and ejection_fraction                                           |   0.72   |    0.64   |  0.52  |   0.57   |\n",
    "\n",
    "* **K Nearest Neighbors**\n",
    "\n",
    "|                  Variables                                                      | Accuracy | Precision | Recall | F1 Score |\n",
    "|:-------------------------------------------------------------------------------:|:--------:|:---------:|:------:|:--------:|\n",
    "|                     All                                                         |   0.69   |    0.67   |  0.30  |   0.41   |\n",
    "|                Age & Gender                                                     |   0.59   |    0.42   |  0.37  |   0.39   |\n",
    "|     Diabetes, High BP, Platelets, Anaemia & Smoking                             |   0.55   |    0.33   |  0.26  |   0.29   |\n",
    "| creatinine_phosphokinase, serum_creatinine,serum_sodium and ejection_fraction   |   0.67   |    0.56   |  0.37  |   0.44   | \n",
    "|    serum_sodium and ejection_fraction                                           |   0.64   |    0.50   |  0.44  |   0.47   |\n",
    "\n",
    "\n",
    "* **Naive Bayes** \n",
    "\n",
    "|                  Variables                                                      | Accuracy | Precision | Recall | F1 Score |\n",
    "|:-------------------------------------------------------------------------------:|:--------:|:---------:|:------:|:--------:|\n",
    "|                     All                                                         |   0.67   |    0.57   |  0.30  |   0.39   |\n",
    "|                Age & Gender                                                     |   0.65   |    0.57   |  0.15  |   0.24   |\n",
    "|     Diabetes, High BP, Platelets, Anaemia & Smoking                             |   0.64   |    0.00   |  0.00  |   0.00   |\n",
    "| creatinine_phosphokinase, serum_creatinine,serum_sodium and ejection_fraction   |   0.64   |    0.50   |  0.19  |    0.27  | \n",
    "|    serum_sodium and ejection_fraction                                           |   0.67   |    0.67   |  0.15  |    0.24  |\n",
    "\n",
    "\n",
    "* **Support Vector Machines** \n",
    "\n",
    "|                  Variables                                                      | Accuracy | Precision | Recall | F1 Score |\n",
    "|:-------------------------------------------------------------------------------:|:--------:|:---------:|:------:|:--------:|\n",
    "|                     All                                                         |   0.81   |    0.84   |  0.59  |   0.70   |\n",
    "|                Age & Gender                                                     |   0.65   |    0.57   |  0.15  |   0.24   |\n",
    "|     Diabetes, High BP, Platelets, Anaemia & Smoking                             |   0.64   |    0.00   |  0.00  |   0.00   |\n",
    "| creatinine_phosphokinase, serum_creatinine,serum_sodium and ejection_fraction   |   0.73   |    0.68   |  0.48  |    0.57  | \n",
    "|    serum_sodium and ejection_fraction                                           |   0.75   |    0.70   |  0.52  |    0.60  |\n"
   ]
  },
  {
   "cell_type": "markdown",
   "metadata": {},
   "source": [
    "**Best performing classification model**\n",
    "\n",
    "Decision Tree using all predictor variables gives the best F1 Score\n",
    "\n",
    "\n",
    "**The performance of the model**\n",
    "* Accuracy: 0.81\n",
    "* Precision: 0.72\n",
    "* Recall: 0.78\n",
    "* F1 Score: 0.75\n",
    "\n",
    "**Selection of the parameters of the model**\n",
    "\n",
    "* Upon trial of many different combinations we understand that few group of variables do not contribute to the best performance of a model. So we chose all predictor variables for the classification as they give the best F1 score and performance.\n"
   ]
  },
  {
   "cell_type": "code",
   "execution_count": 113,
   "metadata": {},
   "outputs": [],
   "source": [
    "# Best performing classifiers & variables\\n\",\n",
    "# (DecisionTreeClassifier(criterion='entropy', random_state=0), ('age', 'anaemia', 'creatinine_phosphokinase', 'platelets', 'serum_creatinine', 'serum_sodium', 'smoking', 'time'))\\n\",\n",
    "# (DecisionTreeClassifier(criterion='entropy', random_state=0), ('age', 'creatinine_phosphokinase', 'diabetes', 'platelets', 'serum_creatinine', 'serum_sodium', 'smoking', 'time'))\\n\",\n",
    "# (DecisionTreeClassifier(criterion='entropy', random_state=0), ('creatinine_phosphokinase', 'diabetes', 'ejection_fraction', 'high_blood_pressure', 'platelets', 'serum_creatinine', 'serum_sodium', 'smoking', 'time'))\\n\",\n",
    "# (DecisionTreeClassifier(criterion='entropy', random_state=0), ('ejection_fraction', 'serum_creatinine', 'serum_sodium', 'time'))\\n\",\n",
    "# (DecisionTreeClassifier(criterion='entropy', random_state=0), ('ejection_fraction', 'high_blood_pressure', 'serum_creatinine', 'serum_sodium', 'time'))\""
   ]
  },
  {
   "cell_type": "markdown",
   "metadata": {},
   "source": [
    "# 5 Clustering"
   ]
  },
  {
   "cell_type": "code",
   "execution_count": 114,
   "metadata": {},
   "outputs": [],
   "source": [
    "data = pd.read_csv('heart_failure_clinical_records_dataset.csv')\n",
    "data.head()\n",
    "\n",
    "x_train = data.iloc[:, :-1]\n",
    "y_train = data.iloc[:, -1].to_numpy().flatten()\n",
    "\n",
    "scaler = StandardScaler()\n",
    "scaler.fit(x_train)\n",
    "x_train_scaled = scaler.transform(x_train)\n",
    "x_train_scaled_df = pd.DataFrame(x_train_scaled, index=x_train.index, columns=x_train.columns)"
   ]
  },
  {
   "cell_type": "markdown",
   "metadata": {},
   "source": [
    "Following are the two true clusters based on \"Serum Creatinine\" and \"Ejection Fraction\""
   ]
  },
  {
   "cell_type": "code",
   "execution_count": 115,
   "metadata": {},
   "outputs": [
    {
     "data": {
      "text/plain": [
       "[Text(0, 0.5, 'ejection_fraction'),\n",
       " Text(0.5, 0, 'serum_creatinine'),\n",
       " Text(0.5, 1.0, 'serum_creatinine vs ejection_fraction')]"
      ]
     },
     "execution_count": 115,
     "metadata": {},
     "output_type": "execute_result"
    },
    {
     "data": {
      "image/png": "[encoded data removed]",
      "text/plain": [
       "<Figure size 432x288 with 1 Axes>"
      ]
     },
     "metadata": {
      "needs_background": "light"
     },
     "output_type": "display_data"
    }
   ],
   "source": [
    "# clustering = linkage(all_x, method = \"single\", metric = \"euclidean\")\n",
    "# clusters = fcluster(clustering, 2, criterion = 'maxclust')\n",
    "col1 = 'serum_creatinine'\n",
    "col2 = 'ejection_fraction'\n",
    "ax = sns.scatterplot(data=data, x=col1, y=col2, hue='DEATH_EVENT')\n",
    "ax.set(title = '{} vs {}'.format(col1, col2), xlabel = col1, ylabel = col2)"
   ]
  },
  {
   "cell_type": "markdown",
   "metadata": {},
   "source": [
    "## 5.1 Hierarchical Clustering - Single Linkage"
   ]
  },
  {
   "cell_type": "markdown",
   "metadata": {},
   "source": [
    "### 5.1.1 All variables"
   ]
  },
  {
   "cell_type": "code",
   "execution_count": 116,
   "metadata": {},
   "outputs": [],
   "source": [
    "all_x = x_train_scaled_df.to_numpy()"
   ]
  },
  {
   "cell_type": "code",
   "execution_count": 117,
   "metadata": {},
   "outputs": [],
   "source": [
    "clustering = linkage(all_x, method=\"single\", metric = \"euclidean\")\n",
    "clusters = fcluster(clustering, 2, criterion = 'maxclust')"
   ]
  },
  {
   "cell_type": "code",
   "execution_count": 118,
   "metadata": {},
   "outputs": [
    {
     "name": "stdout",
     "output_type": "stream",
     "text": [
      "[0.007441167976633384, 0.41639364203172197]\n"
     ]
    }
   ],
   "source": [
    "adjusted_rand_index = metrics.adjusted_rand_score(y_train, clusters)\n",
    "silhouette_coefficient = metrics.silhouette_score(all_x, clusters, metric = \"euclidean\")\n",
    "print([adjusted_rand_index, silhouette_coefficient])"
   ]
  },
  {
   "cell_type": "code",
   "execution_count": 119,
   "metadata": {},
   "outputs": [
    {
     "data": {
      "text/plain": [
       "[Text(0, 0.5, 'ejection_fraction'),\n",
       " Text(0.5, 0, 'serum_creatinine'),\n",
       " Text(0.5, 1.0, 'serum_creatinine vs ejection_fraction')]"
      ]
     },
     "execution_count": 119,
     "metadata": {},
     "output_type": "execute_result"
    },
    {
     "data": {
      "image/png": "[encoded data removed]",
      "text/plain": [
       "<Figure size 432x288 with 1 Axes>"
      ]
     },
     "metadata": {
      "needs_background": "light"
     },
     "output_type": "display_data"
    }
   ],
   "source": [
    "data['clusters'] = clusters - 1\n",
    "ax = sns.scatterplot(data=data, x=col1, y=col2, hue='clusters')\n",
    "ax.set(title = '{} vs {}'.format(col1, col2), xlabel = col1, ylabel = col2)"
   ]
  },
  {
   "cell_type": "markdown",
   "metadata": {},
   "source": [
    "### 5.1.2: Using Age and Gender Variables"
   ]
  },
  {
   "cell_type": "code",
   "execution_count": 120,
   "metadata": {},
   "outputs": [],
   "source": [
    "selected_predictor_variables = ['age', \n",
    "                                'sex']\n",
    "x = x_train_scaled_df.loc[:, selected_predictor_variables].to_numpy()"
   ]
  },
  {
   "cell_type": "code",
   "execution_count": 121,
   "metadata": {},
   "outputs": [],
   "source": [
    "clustering = linkage(x, method=\"single\", metric = \"euclidean\")\n",
    "clusters = fcluster(clustering, 2, criterion = 'maxclust')"
   ]
  },
  {
   "cell_type": "code",
   "execution_count": 122,
   "metadata": {},
   "outputs": [
    {
     "name": "stdout",
     "output_type": "stream",
     "text": [
      "[-0.0018582102712868956, 0.551937322742283]\n"
     ]
    }
   ],
   "source": [
    "adjusted_rand_index = metrics.adjusted_rand_score(y_train, clusters)\n",
    "silhouette_coefficient = metrics.silhouette_score(x, clusters, metric = \"euclidean\")\n",
    "print([adjusted_rand_index, silhouette_coefficient])"
   ]
  },
  {
   "cell_type": "code",
   "execution_count": 123,
   "metadata": {
    "scrolled": false
   },
   "outputs": [
    {
     "data": {
      "text/plain": [
       "[Text(0, 0.5, 'ejection_fraction'),\n",
       " Text(0.5, 0, 'serum_creatinine'),\n",
       " Text(0.5, 1.0, 'serum_creatinine vs ejection_fraction')]"
      ]
     },
     "execution_count": 123,
     "metadata": {},
     "output_type": "execute_result"
    },
    {
     "data": {
      "image/png": "[encoded data removed]",
      "text/plain": [
       "<Figure size 432x288 with 1 Axes>"
      ]
     },
     "metadata": {
      "needs_background": "light"
     },
     "output_type": "display_data"
    }
   ],
   "source": [
    "data['clusters'] = clusters - 1\n",
    "ax = sns.scatterplot(data=data, x=col1, y=col2, hue='clusters')\n",
    "ax.set(title = '{} vs {}'.format(col1, col2), xlabel = col1, ylabel = col2)"
   ]
  },
  {
   "cell_type": "markdown",
   "metadata": {},
   "source": [
    "### 5.1.3: Using Health Problem Variables"
   ]
  },
  {
   "cell_type": "code",
   "execution_count": 124,
   "metadata": {},
   "outputs": [],
   "source": [
    "selected_predictor_variables = ['anaemia', \n",
    "                                'diabetes',\n",
    "                               'platelets', 'high_blood_pressure', 'smoking']\n",
    "x = x_train_scaled_df.loc[:, selected_predictor_variables].to_numpy()"
   ]
  },
  {
   "cell_type": "code",
   "execution_count": 125,
   "metadata": {},
   "outputs": [],
   "source": [
    "clustering = linkage(x, method=\"single\", metric = \"euclidean\")\n",
    "clusters = fcluster(clustering, 2, criterion = 'maxclust')"
   ]
  },
  {
   "cell_type": "code",
   "execution_count": 126,
   "metadata": {},
   "outputs": [
    {
     "name": "stdout",
     "output_type": "stream",
     "text": [
      "[-0.0035189759889497152, 0.5427711036936387]\n"
     ]
    }
   ],
   "source": [
    "adjusted_rand_index = metrics.adjusted_rand_score(y_train, clusters)\n",
    "silhouette_coefficient = metrics.silhouette_score(x, clusters, metric = \"euclidean\")\n",
    "print([adjusted_rand_index, silhouette_coefficient])"
   ]
  },
  {
   "cell_type": "code",
   "execution_count": 127,
   "metadata": {
    "scrolled": true
   },
   "outputs": [
    {
     "data": {
      "text/plain": [
       "[Text(0, 0.5, 'ejection_fraction'),\n",
       " Text(0.5, 0, 'serum_creatinine'),\n",
       " Text(0.5, 1.0, 'serum_creatinine vs ejection_fraction')]"
      ]
     },
     "execution_count": 127,
     "metadata": {},
     "output_type": "execute_result"
    },
    {
     "data": {
      "image/png": "[encoded data removed]",
      "text/plain": [
       "<Figure size 432x288 with 1 Axes>"
      ]
     },
     "metadata": {
      "needs_background": "light"
     },
     "output_type": "display_data"
    }
   ],
   "source": [
    "data['clusters'] = clusters - 1\n",
    "ax = sns.scatterplot(data=data, x=col1, y=col2, hue='clusters')\n",
    "ax.set(title = '{} vs {}'.format(col1, col2), xlabel = col1, ylabel = col2)"
   ]
  },
  {
   "cell_type": "markdown",
   "metadata": {},
   "source": [
    "### 5.1.4: Using Body Parameter Variables"
   ]
  },
  {
   "cell_type": "code",
   "execution_count": 128,
   "metadata": {},
   "outputs": [],
   "source": [
    "selected_predictor_variables = ['creatinine_phosphokinase', \n",
    "                                'serum_creatinine',\n",
    "                               'serum_sodium',\n",
    "                               'ejection_fraction']\n",
    "x = x_train_scaled_df.loc[:, selected_predictor_variables].to_numpy()"
   ]
  },
  {
   "cell_type": "code",
   "execution_count": 129,
   "metadata": {},
   "outputs": [],
   "source": [
    "clustering = linkage(x, method=\"single\", metric = \"euclidean\")\n",
    "clusters = fcluster(clustering, 2, criterion = 'maxclust')"
   ]
  },
  {
   "cell_type": "code",
   "execution_count": 130,
   "metadata": {},
   "outputs": [
    {
     "name": "stdout",
     "output_type": "stream",
     "text": [
      "[0.007441167976633384, 0.6662613003976123]\n"
     ]
    }
   ],
   "source": [
    "adjusted_rand_index = metrics.adjusted_rand_score(y_train, clusters)\n",
    "silhouette_coefficient = metrics.silhouette_score(x, clusters, metric = \"euclidean\")\n",
    "print([adjusted_rand_index, silhouette_coefficient])"
   ]
  },
  {
   "cell_type": "code",
   "execution_count": 131,
   "metadata": {
    "scrolled": true
   },
   "outputs": [
    {
     "data": {
      "text/plain": [
       "[Text(0, 0.5, 'ejection_fraction'),\n",
       " Text(0.5, 0, 'serum_creatinine'),\n",
       " Text(0.5, 1.0, 'serum_creatinine vs ejection_fraction')]"
      ]
     },
     "execution_count": 131,
     "metadata": {},
     "output_type": "execute_result"
    },
    {
     "data": {
      "image/png": "[encoded data removed]",
      "text/plain": [
       "<Figure size 432x288 with 1 Axes>"
      ]
     },
     "metadata": {
      "needs_background": "light"
     },
     "output_type": "display_data"
    }
   ],
   "source": [
    "data['clusters'] = clusters - 1\n",
    "ax = sns.scatterplot(data=data, x=col1, y=col2, hue='clusters')\n",
    "ax.set(title = '{} vs {}'.format(col1, col2), xlabel = col1, ylabel = col2)"
   ]
  },
  {
   "cell_type": "markdown",
   "metadata": {},
   "source": [
    "### 5.1.5: Using Anaemia"
   ]
  },
  {
   "cell_type": "code",
   "execution_count": 132,
   "metadata": {},
   "outputs": [],
   "source": [
    "selected_predictor_variables = ['anaemia']\n",
    "x = x_train_scaled_df.loc[:, selected_predictor_variables].to_numpy()"
   ]
  },
  {
   "cell_type": "code",
   "execution_count": 133,
   "metadata": {},
   "outputs": [],
   "source": [
    "clustering = linkage(x, method=\"single\", metric = \"euclidean\")\n",
    "clusters = fcluster(clustering, 2, criterion = 'maxclust')"
   ]
  },
  {
   "cell_type": "code",
   "execution_count": 134,
   "metadata": {},
   "outputs": [
    {
     "name": "stdout",
     "output_type": "stream",
     "text": [
      "[0.006938789172657143, 1.0]\n"
     ]
    }
   ],
   "source": [
    "adjusted_rand_index = metrics.adjusted_rand_score(y_train, clusters)\n",
    "silhouette_coefficient = metrics.silhouette_score(x, clusters, metric = \"euclidean\")\n",
    "print([adjusted_rand_index, silhouette_coefficient])"
   ]
  },
  {
   "cell_type": "code",
   "execution_count": 135,
   "metadata": {
    "scrolled": true
   },
   "outputs": [
    {
     "data": {
      "text/plain": [
       "[Text(0, 0.5, 'ejection_fraction'),\n",
       " Text(0.5, 0, 'serum_creatinine'),\n",
       " Text(0.5, 1.0, 'serum_creatinine vs ejection_fraction')]"
      ]
     },
     "execution_count": 135,
     "metadata": {},
     "output_type": "execute_result"
    },
    {
     "data": {
      "image/png": "[encoded data removed]",
      "text/plain": [
       "<Figure size 432x288 with 1 Axes>"
      ]
     },
     "metadata": {
      "needs_background": "light"
     },
     "output_type": "display_data"
    }
   ],
   "source": [
    "data['clusters'] = clusters - 1\n",
    "ax = sns.scatterplot(data=data, x=col1, y=col2, hue='clusters')\n",
    "ax.set(title = '{} vs {}'.format(col1, col2), xlabel = col1, ylabel = col2)"
   ]
  },
  {
   "cell_type": "markdown",
   "metadata": {},
   "source": [
    "## 2) Hierarchical Clustering - Complete Linkage"
   ]
  },
  {
   "cell_type": "markdown",
   "metadata": {},
   "source": [
    "### 5.2.1 All variables"
   ]
  },
  {
   "cell_type": "code",
   "execution_count": 136,
   "metadata": {},
   "outputs": [],
   "source": [
    "all_x = x_train_scaled_df.to_numpy()"
   ]
  },
  {
   "cell_type": "code",
   "execution_count": 137,
   "metadata": {},
   "outputs": [],
   "source": [
    "clustering = linkage(all_x, method=\"complete\", metric = \"euclidean\")\n",
    "clusters = fcluster(clustering, 2, criterion = 'maxclust')"
   ]
  },
  {
   "cell_type": "code",
   "execution_count": 138,
   "metadata": {},
   "outputs": [
    {
     "name": "stdout",
     "output_type": "stream",
     "text": [
      "[0.022507236951381675, 0.46861144710828245]\n"
     ]
    }
   ],
   "source": [
    "adjusted_rand_index = metrics.adjusted_rand_score(y_train, clusters)\n",
    "silhouette_coefficient = metrics.silhouette_score(all_x, clusters, metric = \"euclidean\")\n",
    "print([adjusted_rand_index, silhouette_coefficient])"
   ]
  },
  {
   "cell_type": "code",
   "execution_count": 139,
   "metadata": {},
   "outputs": [
    {
     "data": {
      "text/plain": [
       "[Text(0, 0.5, 'ejection_fraction'),\n",
       " Text(0.5, 0, 'serum_creatinine'),\n",
       " Text(0.5, 1.0, 'serum_creatinine vs ejection_fraction')]"
      ]
     },
     "execution_count": 139,
     "metadata": {},
     "output_type": "execute_result"
    },
    {
     "data": {
      "image/png": "[encoded data removed]",
      "text/plain": [
       "<Figure size 432x288 with 1 Axes>"
      ]
     },
     "metadata": {
      "needs_background": "light"
     },
     "output_type": "display_data"
    }
   ],
   "source": [
    "data['clusters'] = clusters - 1\n",
    "ax = sns.scatterplot(data=data, x=col1, y=col2, hue='clusters')\n",
    "ax.set(title = '{} vs {}'.format(col1, col2), xlabel = col1, ylabel = col2)"
   ]
  },
  {
   "cell_type": "markdown",
   "metadata": {},
   "source": [
    "### 5.2.2: Using Age and Gender Variables"
   ]
  },
  {
   "cell_type": "code",
   "execution_count": 140,
   "metadata": {},
   "outputs": [],
   "source": [
    "selected_predictor_variables = ['age', \n",
    "                                'sex']\n",
    "x = x_train_scaled_df.loc[:, selected_predictor_variables].to_numpy()"
   ]
  },
  {
   "cell_type": "code",
   "execution_count": 141,
   "metadata": {},
   "outputs": [],
   "source": [
    "clustering = linkage(x, method=\"complete\", metric = \"euclidean\")\n",
    "clusters = fcluster(clustering, 2, criterion = 'maxclust')"
   ]
  },
  {
   "cell_type": "code",
   "execution_count": 142,
   "metadata": {},
   "outputs": [
    {
     "name": "stdout",
     "output_type": "stream",
     "text": [
      "[0.11142775349398941, 0.3419871555832537]\n"
     ]
    }
   ],
   "source": [
    "adjusted_rand_index = metrics.adjusted_rand_score(y_train, clusters)\n",
    "silhouette_coefficient = metrics.silhouette_score(x, clusters, metric = \"euclidean\")\n",
    "print([adjusted_rand_index, silhouette_coefficient])"
   ]
  },
  {
   "cell_type": "code",
   "execution_count": 143,
   "metadata": {
    "scrolled": false
   },
   "outputs": [
    {
     "data": {
      "text/plain": [
       "[Text(0, 0.5, 'ejection_fraction'),\n",
       " Text(0.5, 0, 'serum_creatinine'),\n",
       " Text(0.5, 1.0, 'serum_creatinine vs ejection_fraction')]"
      ]
     },
     "execution_count": 143,
     "metadata": {},
     "output_type": "execute_result"
    },
    {
     "data": {
      "image/png": "[encoded data removed]",
      "text/plain": [
       "<Figure size 432x288 with 1 Axes>"
      ]
     },
     "metadata": {
      "needs_background": "light"
     },
     "output_type": "display_data"
    }
   ],
   "source": [
    "data['clusters'] = clusters - 1\n",
    "ax = sns.scatterplot(data=data, x=col1, y=col2, hue='clusters')\n",
    "ax.set(title = '{} vs {}'.format(col1, col2), xlabel = col1, ylabel = col2)"
   ]
  },
  {
   "cell_type": "markdown",
   "metadata": {},
   "source": [
    "### 5.2.3: Using Health Problem Variables"
   ]
  },
  {
   "cell_type": "code",
   "execution_count": 144,
   "metadata": {},
   "outputs": [],
   "source": [
    "selected_predictor_variables = ['anaemia', \n",
    "                                'diabetes',\n",
    "                               'platelets', 'high_blood_pressure', 'smoking']\n",
    "x = x_train_scaled_df.loc[:, selected_predictor_variables].to_numpy()"
   ]
  },
  {
   "cell_type": "code",
   "execution_count": 145,
   "metadata": {},
   "outputs": [],
   "source": [
    "clustering = linkage(x, method=\"complete\", metric = \"euclidean\")\n",
    "clusters = fcluster(clustering, 2, criterion = 'maxclust')"
   ]
  },
  {
   "cell_type": "code",
   "execution_count": 146,
   "metadata": {},
   "outputs": [
    {
     "name": "stdout",
     "output_type": "stream",
     "text": [
      "[-0.007387031337951726, 0.11014816465932352]\n"
     ]
    }
   ],
   "source": [
    "adjusted_rand_index = metrics.adjusted_rand_score(y_train, clusters)\n",
    "silhouette_coefficient = metrics.silhouette_score(x, clusters, metric = \"euclidean\")\n",
    "print([adjusted_rand_index, silhouette_coefficient])"
   ]
  },
  {
   "cell_type": "code",
   "execution_count": 147,
   "metadata": {
    "scrolled": true
   },
   "outputs": [
    {
     "data": {
      "text/plain": [
       "[Text(0, 0.5, 'ejection_fraction'),\n",
       " Text(0.5, 0, 'serum_creatinine'),\n",
       " Text(0.5, 1.0, 'serum_creatinine vs ejection_fraction')]"
      ]
     },
     "execution_count": 147,
     "metadata": {},
     "output_type": "execute_result"
    },
    {
     "data": {
      "image/png": "[encoded data removed]",
      "text/plain": [
       "<Figure size 432x288 with 1 Axes>"
      ]
     },
     "metadata": {
      "needs_background": "light"
     },
     "output_type": "display_data"
    }
   ],
   "source": [
    "data['clusters'] = clusters - 1\n",
    "ax = sns.scatterplot(data=data, x=col1, y=col2, hue='clusters')\n",
    "ax.set(title = '{} vs {}'.format(col1, col2), xlabel = col1, ylabel = col2)"
   ]
  },
  {
   "cell_type": "markdown",
   "metadata": {},
   "source": [
    "### 5.2.4: Using Body Parameter Variables"
   ]
  },
  {
   "cell_type": "code",
   "execution_count": 148,
   "metadata": {},
   "outputs": [],
   "source": [
    "selected_predictor_variables = ['creatinine_phosphokinase', \n",
    "                                'serum_creatinine',\n",
    "                               'serum_sodium',\n",
    "                               'ejection_fraction']\n",
    "x = x_train_scaled_df.loc[:, selected_predictor_variables].to_numpy()"
   ]
  },
  {
   "cell_type": "code",
   "execution_count": 149,
   "metadata": {},
   "outputs": [],
   "source": [
    "clustering = linkage(x, method=\"complete\", metric = \"euclidean\")\n",
    "clusters = fcluster(clustering, 2, criterion = 'maxclust')"
   ]
  },
  {
   "cell_type": "code",
   "execution_count": 150,
   "metadata": {},
   "outputs": [
    {
     "name": "stdout",
     "output_type": "stream",
     "text": [
      "[0.02612613619798278, 0.6567989004211781]\n"
     ]
    }
   ],
   "source": [
    "adjusted_rand_index = metrics.adjusted_rand_score(y_train, clusters)\n",
    "silhouette_coefficient = metrics.silhouette_score(x, clusters, metric = \"euclidean\")\n",
    "print([adjusted_rand_index, silhouette_coefficient])"
   ]
  },
  {
   "cell_type": "code",
   "execution_count": 151,
   "metadata": {
    "scrolled": true
   },
   "outputs": [
    {
     "data": {
      "text/plain": [
       "[Text(0, 0.5, 'ejection_fraction'),\n",
       " Text(0.5, 0, 'serum_creatinine'),\n",
       " Text(0.5, 1.0, 'serum_creatinine vs ejection_fraction')]"
      ]
     },
     "execution_count": 151,
     "metadata": {},
     "output_type": "execute_result"
    },
    {
     "data": {
      "image/png": "[encoded data removed]",
      "text/plain": [
       "<Figure size 432x288 with 1 Axes>"
      ]
     },
     "metadata": {
      "needs_background": "light"
     },
     "output_type": "display_data"
    }
   ],
   "source": [
    "data['clusters'] = clusters - 1\n",
    "ax = sns.scatterplot(data=data, x=col1, y=col2, hue='clusters')\n",
    "ax.set(title = '{} vs {}'.format(col1, col2), xlabel = col1, ylabel = col2)"
   ]
  },
  {
   "cell_type": "markdown",
   "metadata": {},
   "source": [
    "### 5.2.5: Using Anaemia"
   ]
  },
  {
   "cell_type": "code",
   "execution_count": 152,
   "metadata": {},
   "outputs": [],
   "source": [
    "selected_predictor_variables = ['anaemia']\n",
    "x = x_train_scaled_df.loc[:, selected_predictor_variables].to_numpy()"
   ]
  },
  {
   "cell_type": "code",
   "execution_count": 153,
   "metadata": {},
   "outputs": [],
   "source": [
    "clustering = linkage(x, method=\"complete\", metric = \"euclidean\")\n",
    "clusters = fcluster(clustering, 2, criterion = 'maxclust')"
   ]
  },
  {
   "cell_type": "code",
   "execution_count": 154,
   "metadata": {},
   "outputs": [
    {
     "name": "stdout",
     "output_type": "stream",
     "text": [
      "[0.006938789172657143, 1.0]\n"
     ]
    }
   ],
   "source": [
    "adjusted_rand_index = metrics.adjusted_rand_score(y_train, clusters)\n",
    "silhouette_coefficient = metrics.silhouette_score(x, clusters, metric = \"euclidean\")\n",
    "print([adjusted_rand_index, silhouette_coefficient])"
   ]
  },
  {
   "cell_type": "code",
   "execution_count": 155,
   "metadata": {
    "scrolled": true
   },
   "outputs": [
    {
     "data": {
      "text/plain": [
       "[Text(0, 0.5, 'ejection_fraction'),\n",
       " Text(0.5, 0, 'serum_creatinine'),\n",
       " Text(0.5, 1.0, 'serum_creatinine vs ejection_fraction')]"
      ]
     },
     "execution_count": 155,
     "metadata": {},
     "output_type": "execute_result"
    },
    {
     "data": {
      "image/png": "[encoded data removed]",
      "text/plain": [
       "<Figure size 432x288 with 1 Axes>"
      ]
     },
     "metadata": {
      "needs_background": "light"
     },
     "output_type": "display_data"
    }
   ],
   "source": [
    "data['clusters'] = clusters - 1\n",
    "ax = sns.scatterplot(data=data, x=col1, y=col2, hue='clusters')\n",
    "ax.set(title = '{} vs {}'.format(col1, col2), xlabel = col1, ylabel = col2)"
   ]
  },
  {
   "cell_type": "markdown",
   "metadata": {},
   "source": [
    "## 3) KMeans Clustering"
   ]
  },
  {
   "cell_type": "markdown",
   "metadata": {},
   "source": [
    "### 5.3.1: All variables"
   ]
  },
  {
   "cell_type": "code",
   "execution_count": 156,
   "metadata": {},
   "outputs": [],
   "source": [
    "all_x = x_train_scaled_df.to_numpy()"
   ]
  },
  {
   "cell_type": "code",
   "execution_count": 157,
   "metadata": {},
   "outputs": [],
   "source": [
    "clustering = KMeans(n_clusters = 2, init = 'random', n_init = 10, random_state=0).fit(all_x)\n",
    "clusters = clustering.labels_"
   ]
  },
  {
   "cell_type": "code",
   "execution_count": 158,
   "metadata": {},
   "outputs": [
    {
     "name": "stdout",
     "output_type": "stream",
     "text": [
      "[-0.0036799581865726927, 0.1178512561512019]\n"
     ]
    }
   ],
   "source": [
    "adjusted_rand_index = metrics.adjusted_rand_score(y_train, clusters)\n",
    "silhouette_coefficient = metrics.silhouette_score(all_x, clusters, metric = \"euclidean\")\n",
    "print([adjusted_rand_index, silhouette_coefficient])"
   ]
  },
  {
   "cell_type": "code",
   "execution_count": 159,
   "metadata": {},
   "outputs": [
    {
     "data": {
      "text/plain": [
       "[Text(0, 0.5, 'ejection_fraction'),\n",
       " Text(0.5, 0, 'serum_creatinine'),\n",
       " Text(0.5, 1.0, 'serum_creatinine vs ejection_fraction')]"
      ]
     },
     "execution_count": 159,
     "metadata": {},
     "output_type": "execute_result"
    },
    {
     "data": {
      "image/png": "[encoded data removed]",
      "text/plain": [
       "<Figure size 432x288 with 1 Axes>"
      ]
     },
     "metadata": {
      "needs_background": "light"
     },
     "output_type": "display_data"
    }
   ],
   "source": [
    "data['clusters'] = clusters\n",
    "ax = sns.scatterplot(data=data, x=col1, y=col2, hue='clusters')\n",
    "ax.set(title = '{} vs {}'.format(col1, col2), xlabel = col1, ylabel = col2)"
   ]
  },
  {
   "cell_type": "markdown",
   "metadata": {},
   "source": [
    "### 5.3.2 Using Age and Gender Variables"
   ]
  },
  {
   "cell_type": "code",
   "execution_count": 160,
   "metadata": {},
   "outputs": [],
   "source": [
    "selected_predictor_variables = ['age', \n",
    "                                'sex']\n",
    "x = x_train_scaled_df.loc[:, selected_predictor_variables].to_numpy()"
   ]
  },
  {
   "cell_type": "code",
   "execution_count": 161,
   "metadata": {},
   "outputs": [],
   "source": [
    "clustering = KMeans(n_clusters = 2, init = 'random', n_init = 10, random_state=0).fit(x)\n",
    "clusters = clustering.labels_"
   ]
  },
  {
   "cell_type": "code",
   "execution_count": 162,
   "metadata": {},
   "outputs": [
    {
     "name": "stdout",
     "output_type": "stream",
     "text": [
      "[-0.0018582102712868956, 0.551937322742283]\n"
     ]
    }
   ],
   "source": [
    "adjusted_rand_index = metrics.adjusted_rand_score(y_train, clusters)\n",
    "silhouette_coefficient = metrics.silhouette_score(x, clusters, metric = \"euclidean\")\n",
    "print([adjusted_rand_index, silhouette_coefficient])"
   ]
  },
  {
   "cell_type": "code",
   "execution_count": 163,
   "metadata": {
    "scrolled": false
   },
   "outputs": [
    {
     "data": {
      "text/plain": [
       "[Text(0, 0.5, 'ejection_fraction'),\n",
       " Text(0.5, 0, 'serum_creatinine'),\n",
       " Text(0.5, 1.0, 'serum_creatinine vs ejection_fraction')]"
      ]
     },
     "execution_count": 163,
     "metadata": {},
     "output_type": "execute_result"
    },
    {
     "data": {
      "image/png": "[encoded data removed]",
      "text/plain": [
       "<Figure size 432x288 with 1 Axes>"
      ]
     },
     "metadata": {
      "needs_background": "light"
     },
     "output_type": "display_data"
    }
   ],
   "source": [
    "data['clusters'] = clusters\n",
    "ax = sns.scatterplot(data=data, x=col1, y=col2, hue='clusters')\n",
    "ax.set(title = '{} vs {}'.format(col1, col2), xlabel = col1, ylabel = col2)"
   ]
  },
  {
   "cell_type": "markdown",
   "metadata": {},
   "source": [
    "### 5.3.3 Using Health Problem Variables"
   ]
  },
  {
   "cell_type": "code",
   "execution_count": 164,
   "metadata": {},
   "outputs": [],
   "source": [
    "selected_predictor_variables = ['anaemia', \n",
    "                                'diabetes',\n",
    "                               'platelets', 'high_blood_pressure', 'smoking']\n",
    "x = x_train_scaled_df.loc[:, selected_predictor_variables].to_numpy()"
   ]
  },
  {
   "cell_type": "code",
   "execution_count": 165,
   "metadata": {},
   "outputs": [],
   "source": [
    "clustering = KMeans(n_clusters = 2, init = 'random', n_init = 10, random_state=0).fit(x)\n",
    "clusters = clustering.labels_"
   ]
  },
  {
   "cell_type": "code",
   "execution_count": 166,
   "metadata": {},
   "outputs": [
    {
     "name": "stdout",
     "output_type": "stream",
     "text": [
      "[-0.005350592860670945, 0.24587001478483037]\n"
     ]
    }
   ],
   "source": [
    "adjusted_rand_index = metrics.adjusted_rand_score(y_train, clusters)\n",
    "silhouette_coefficient = metrics.silhouette_score(x, clusters, metric = \"euclidean\")\n",
    "print([adjusted_rand_index, silhouette_coefficient])"
   ]
  },
  {
   "cell_type": "code",
   "execution_count": 167,
   "metadata": {
    "scrolled": true
   },
   "outputs": [
    {
     "data": {
      "text/plain": [
       "[Text(0, 0.5, 'ejection_fraction'),\n",
       " Text(0.5, 0, 'serum_creatinine'),\n",
       " Text(0.5, 1.0, 'serum_creatinine vs ejection_fraction')]"
      ]
     },
     "execution_count": 167,
     "metadata": {},
     "output_type": "execute_result"
    },
    {
     "data": {
      "image/png": "[encoded data removed]",
      "text/plain": [
       "<Figure size 432x288 with 1 Axes>"
      ]
     },
     "metadata": {
      "needs_background": "light"
     },
     "output_type": "display_data"
    }
   ],
   "source": [
    "data['clusters'] = clusters\n",
    "ax = sns.scatterplot(data=data, x=col1, y=col2, hue='clusters')\n",
    "ax.set(title = '{} vs {}'.format(col1, col2), xlabel = col1, ylabel = col2)"
   ]
  },
  {
   "cell_type": "markdown",
   "metadata": {},
   "source": [
    "### 5.3.4 Using Body Parameter Variables"
   ]
  },
  {
   "cell_type": "code",
   "execution_count": 168,
   "metadata": {},
   "outputs": [],
   "source": [
    "selected_predictor_variables = ['creatinine_phosphokinase', \n",
    "                                'serum_creatinine',\n",
    "                               'serum_sodium',\n",
    "                               'ejection_fraction']\n",
    "x = x_train_scaled_df.loc[:, selected_predictor_variables].to_numpy()"
   ]
  },
  {
   "cell_type": "code",
   "execution_count": 169,
   "metadata": {},
   "outputs": [],
   "source": [
    "clustering = KMeans(n_clusters = 2, init = 'random', n_init = 10, random_state=0).fit(x)\n",
    "clusters = clustering.labels_"
   ]
  },
  {
   "cell_type": "code",
   "execution_count": 170,
   "metadata": {},
   "outputs": [
    {
     "name": "stdout",
     "output_type": "stream",
     "text": [
      "[0.15419143591523968, 0.24027667508494274]\n"
     ]
    }
   ],
   "source": [
    "adjusted_rand_index = metrics.adjusted_rand_score(y_train, clusters)\n",
    "silhouette_coefficient = metrics.silhouette_score(x, clusters, metric = \"euclidean\")\n",
    "print([adjusted_rand_index, silhouette_coefficient])"
   ]
  },
  {
   "cell_type": "code",
   "execution_count": 171,
   "metadata": {
    "scrolled": true
   },
   "outputs": [
    {
     "data": {
      "text/plain": [
       "[Text(0, 0.5, 'ejection_fraction'),\n",
       " Text(0.5, 0, 'serum_creatinine'),\n",
       " Text(0.5, 1.0, 'serum_creatinine vs ejection_fraction')]"
      ]
     },
     "execution_count": 171,
     "metadata": {},
     "output_type": "execute_result"
    },
    {
     "data": {
      "image/png": "[encoded data removed]",
      "text/plain": [
       "<Figure size 432x288 with 1 Axes>"
      ]
     },
     "metadata": {
      "needs_background": "light"
     },
     "output_type": "display_data"
    }
   ],
   "source": [
    "data['clusters'] = clusters\n",
    "ax = sns.scatterplot(data=data, x=col1, y=col2, hue='clusters')\n",
    "ax.set(title = '{} vs {}'.format(col1, col2), xlabel = col1, ylabel = col2)"
   ]
  },
  {
   "cell_type": "markdown",
   "metadata": {},
   "source": [
    "### 5.3.5 Using Anaemia"
   ]
  },
  {
   "cell_type": "code",
   "execution_count": 172,
   "metadata": {},
   "outputs": [],
   "source": [
    "selected_predictor_variables = ['anaemia']\n",
    "x = x_train_scaled_df.loc[:, selected_predictor_variables].to_numpy()"
   ]
  },
  {
   "cell_type": "code",
   "execution_count": 173,
   "metadata": {},
   "outputs": [],
   "source": [
    "clustering = KMeans(n_clusters = 2, init = 'random', n_init = 10, random_state=0).fit(x)\n",
    "clusters = clustering.labels_"
   ]
  },
  {
   "cell_type": "code",
   "execution_count": 174,
   "metadata": {},
   "outputs": [
    {
     "name": "stdout",
     "output_type": "stream",
     "text": [
      "[0.006938789172657143, 1.0]\n"
     ]
    }
   ],
   "source": [
    "adjusted_rand_index = metrics.adjusted_rand_score(y_train, clusters)\n",
    "silhouette_coefficient = metrics.silhouette_score(x, clusters, metric = \"euclidean\")\n",
    "print([adjusted_rand_index, silhouette_coefficient])"
   ]
  },
  {
   "cell_type": "code",
   "execution_count": 175,
   "metadata": {
    "scrolled": false
   },
   "outputs": [
    {
     "data": {
      "text/plain": [
       "[Text(0, 0.5, 'ejection_fraction'),\n",
       " Text(0.5, 0, 'serum_creatinine'),\n",
       " Text(0.5, 1.0, 'serum_creatinine vs ejection_fraction')]"
      ]
     },
     "execution_count": 175,
     "metadata": {},
     "output_type": "execute_result"
    },
    {
     "data": {
      "image/png": "[encoded data removed]",
      "text/plain": [
       "<Figure size 432x288 with 1 Axes>"
      ]
     },
     "metadata": {
      "needs_background": "light"
     },
     "output_type": "display_data"
    }
   ],
   "source": [
    "data['clusters'] = clusters\n",
    "ax = sns.scatterplot(data=data, x=col1, y=col2, hue='clusters')\n",
    "ax.set(title = '{} vs {}'.format(col1, col2), xlabel = col1, ylabel = col2)"
   ]
  },
  {
   "cell_type": "markdown",
   "metadata": {},
   "source": [
    "### Classification: Model Performances\n",
    "* **Hierarchical Clustering - Single Linkage**\n",
    "\n",
    "|    Variables    | Rand Index | Silhouette Coefficient |\n",
    "|:---------------:|:----------:|:----------------------:|\n",
    "|       All       |    0.007   |          0.416         |\n",
    "|   Age & Gender  |   -0.001   |          0.552         |\n",
    "|  Health Problem |   -0.003   |          0.543         |\n",
    "| Body Parameters |    0.007   |          0.666         |\n",
    "|     Anaemia     |    0.007   |           1.0          |\n",
    "\n",
    "* **Hierarchical Clustering - Complete Linkage**\n",
    "\n",
    "|    Variables    | Rand Index | Silhouette Coefficient |\n",
    "|:---------------:|:----------:|:----------------------:|\n",
    "|       All       |    0.022   |          0.469         |\n",
    "|   Age & Gender  |    0.111   |          0.342         |\n",
    "|  Health Problem |   -0.007   |          0.11          |\n",
    "| Body Parameters |    0.026   |          0.657         |\n",
    "|     Anaemia     |    0.007   |           1.0          |\n",
    "\n",
    "* **KMeans Clustering** \n",
    "\n",
    "|    Variables    | Rand Index | Silhouette Coefficient |\n",
    "|:---------------:|:----------:|:----------------------:|\n",
    "|       All       |   -0.003   |          0.117         |\n",
    "|   Age & Gender  |   -0.001   |          0.552         |\n",
    "|  Health Problem |   -0.005   |          0.246         |\n",
    "| Body Parameters |    0.154   |          0.240         |\n",
    "|     Anaemia     |    0.007   |           1.0          |"
   ]
  },
  {
   "cell_type": "code",
   "execution_count": null,
   "metadata": {},
   "outputs": [],
   "source": []
  }
 ],
 "metadata": {
  "kernelspec": {
   "display_name": "Python 3",
   "language": "python",
   "name": "python3"
  },
  "language_info": {
   "codemirror_mode": {
    "name": "ipython",
    "version": 3
   },
   "file_extension": ".py",
   "mimetype": "text/x-python",
   "name": "python",
   "nbconvert_exporter": "python",
   "pygments_lexer": "ipython3",
   "version": "3.7.6"
  }
 },
 "nbformat": 4,
 "nbformat_minor": 4
}
